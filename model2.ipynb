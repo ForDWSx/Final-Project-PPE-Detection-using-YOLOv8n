{
 "cells": [
  {
   "cell_type": "code",
   "execution_count": null,
   "id": "72492587-d5fc-445c-a155-0fb3232a0552",
   "metadata": {},
   "outputs": [
    {
     "name": "stderr",
     "output_type": "stream",
     "text": [
      "2025-05-24 22:37:15,746 - INFO - Using device: cuda\n",
      "2025-05-24 22:37:15,749 - INFO - Found existing weights at c:\\WORK STUFF LOL\\NTU file\\NTU file\\NTU courses\\3rd year\\Deep learning\\Individual Project2\\Hard Hat - Vest\\runs\\train\\helmet_vest_detection\\weights\\best.pt. Loading model...\n"
     ]
    }
   ],
   "source": [
    "import os\n",
    "import shutil\n",
    "from pathlib import Path\n",
    "from tqdm import tqdm\n",
    "import torch\n",
    "from ultralytics import YOLO\n",
    "import logging\n",
    "\n",
    "# Set up logging\n",
    "logging.basicConfig(level=logging.INFO, format='%(asctime)s - %(levelname)s - %(message)s')\n",
    "\n",
    "# Check for GPU\n",
    "DEVICE = torch.device(\"cuda\" if torch.cuda.is_available() else \"cpu\")\n",
    "logging.info(f\"Using device: {DEVICE}\")\n",
    "\n",
    "# Define project structure\n",
    "base_dir = Path.cwd()\n",
    "img_dir = base_dir / \"images\"\n",
    "label_dir = base_dir / \"labels\"\n",
    "output_dir = base_dir  # Same local folder\n",
    "yaml_path = base_dir / \"data.yaml\"\n",
    "\n",
    "classes = ['helmet', 'vest', 'head']\n",
    "num_classes = len(classes)\n",
    "\n",
    "# Validate directories\n",
    "for split in ['train', 'val', 'test']:\n",
    "    img_split_dir = img_dir / split\n",
    "    label_split_dir = label_dir / split\n",
    "    if not img_split_dir.exists() or not label_split_dir.exists():\n",
    "        logging.error(f\"{split} directory for images or labels not found!\")\n",
    "        raise FileNotFoundError(f\"Ensure 'images/{split}' and 'labels/{split}' directories exist in {base_dir}.\")\n",
    "\n",
    "# Train YOLOv8 model\n",
    "weights_path = base_dir / \"runs\" / \"train\" / \"helmet_vest_detection\" / \"weights\" / \"best.pt\"\n",
    "\n",
    "# Check if weights exist\n",
    "if weights_path.exists():\n",
    "    logging.info(f\"Found existing weights at {weights_path}. Loading model...\")\n",
    "    model = YOLO(str(weights_path))\n",
    "else:\n",
    "    logging.info(\"Weights not found. Starting YOLOv8 model training...\")\n",
    "    model = YOLO(\"yolov8n.pt\")\n",
    "    results = model.train(\n",
    "        data=str(yaml_path),\n",
    "        epochs=20,\n",
    "        imgsz=640,\n",
    "        batch=16,\n",
    "        name=\"helmet_vest_detection\",\n",
    "        project=\"runs/train\",\n",
    "        device=DEVICE\n",
    "    )\n",
    "    logging.info(f\"Model training completed. Weights saved to {weights_path}\")"
   ]
  },
  {
   "cell_type": "code",
   "execution_count": 2,
   "id": "492d4eba-1325-4445-9156-6f5899c8451c",
   "metadata": {
    "scrolled": true
   },
   "outputs": [
    {
     "name": "stderr",
     "output_type": "stream",
     "text": [
      "2025-05-24 22:37:18,255 - INFO - Found 2455 test images.\n"
     ]
    },
    {
     "name": "stdout",
     "output_type": "stream",
     "text": [
      "\n",
      "image 1/1 c:\\WORK STUFF LOL\\NTU file\\NTU file\\NTU courses\\3rd year\\Deep learning\\Individual Project2\\Hard Hat - Vest\\images\\test\\000009.jpg: 640x640 2 helmets, 1 vest, 5.8ms\n",
      "Speed: 6.0ms preprocess, 5.8ms inference, 208.3ms postprocess per image at shape (1, 3, 640, 640)\n"
     ]
    },
    {
     "name": "stderr",
     "output_type": "stream",
     "text": [
      "2025-05-24 22:37:20,765 - WARNING - Label-prediction mismatch in 000009.jpg: 1 ground truth vs 3 predicted\n"
     ]
    },
    {
     "name": "stdout",
     "output_type": "stream",
     "text": [
      "\n",
      "image 1/1 c:\\WORK STUFF LOL\\NTU file\\NTU file\\NTU courses\\3rd year\\Deep learning\\Individual Project2\\Hard Hat - Vest\\images\\test\\000010.jpg: 640x640 5 helmets, 10 vests, 7.1ms\n",
      "Speed: 2.6ms preprocess, 7.1ms inference, 1.6ms postprocess per image at shape (1, 3, 640, 640)\n"
     ]
    },
    {
     "name": "stderr",
     "output_type": "stream",
     "text": [
      "2025-05-24 22:37:20,795 - WARNING - Label-prediction mismatch in 000010.jpg: 8 ground truth vs 15 predicted\n"
     ]
    },
    {
     "name": "stdout",
     "output_type": "stream",
     "text": [
      "\n",
      "image 1/1 c:\\WORK STUFF LOL\\NTU file\\NTU file\\NTU courses\\3rd year\\Deep learning\\Individual Project2\\Hard Hat - Vest\\images\\test\\000021.jpg: 640x640 4 helmets, 14.5ms\n",
      "Speed: 2.5ms preprocess, 14.5ms inference, 2.3ms postprocess per image at shape (1, 3, 640, 640)\n"
     ]
    },
    {
     "name": "stderr",
     "output_type": "stream",
     "text": [
      "2025-05-24 22:37:20,830 - WARNING - Label-prediction mismatch in 000021.jpg: 3 ground truth vs 4 predicted\n"
     ]
    },
    {
     "name": "stdout",
     "output_type": "stream",
     "text": [
      "\n",
      "image 1/1 c:\\WORK STUFF LOL\\NTU file\\NTU file\\NTU courses\\3rd year\\Deep learning\\Individual Project2\\Hard Hat - Vest\\images\\test\\000022.jpg: 640x640 7 helmets, 1 vest, 10.8ms\n",
      "Speed: 2.5ms preprocess, 10.8ms inference, 3.0ms postprocess per image at shape (1, 3, 640, 640)\n"
     ]
    },
    {
     "name": "stderr",
     "output_type": "stream",
     "text": [
      "2025-05-24 22:37:20,859 - WARNING - Label-prediction mismatch in 000022.jpg: 7 ground truth vs 8 predicted\n"
     ]
    },
    {
     "name": "stdout",
     "output_type": "stream",
     "text": [
      "\n",
      "image 1/1 c:\\WORK STUFF LOL\\NTU file\\NTU file\\NTU courses\\3rd year\\Deep learning\\Individual Project2\\Hard Hat - Vest\\images\\test\\000034.jpg: 640x640 1 helmet, 6.5ms\n",
      "Speed: 2.5ms preprocess, 6.5ms inference, 3.5ms postprocess per image at shape (1, 3, 640, 640)\n",
      "\n",
      "image 1/1 c:\\WORK STUFF LOL\\NTU file\\NTU file\\NTU courses\\3rd year\\Deep learning\\Individual Project2\\Hard Hat - Vest\\images\\test\\000036.jpg: 640x640 3 helmets, 12.8ms\n",
      "Speed: 2.6ms preprocess, 12.8ms inference, 3.1ms postprocess per image at shape (1, 3, 640, 640)\n"
     ]
    },
    {
     "name": "stderr",
     "output_type": "stream",
     "text": [
      "2025-05-24 22:37:20,917 - WARNING - Label-prediction mismatch in 000036.jpg: 4 ground truth vs 3 predicted\n"
     ]
    },
    {
     "name": "stdout",
     "output_type": "stream",
     "text": [
      "\n",
      "image 1/1 c:\\WORK STUFF LOL\\NTU file\\NTU file\\NTU courses\\3rd year\\Deep learning\\Individual Project2\\Hard Hat - Vest\\images\\test\\000056.jpg: 640x640 1 helmet, 7 heads, 6.1ms\n",
      "Speed: 2.4ms preprocess, 6.1ms inference, 2.0ms postprocess per image at shape (1, 3, 640, 640)\n"
     ]
    },
    {
     "name": "stderr",
     "output_type": "stream",
     "text": [
      "2025-05-24 22:37:20,941 - WARNING - Label-prediction mismatch in 000056.jpg: 7 ground truth vs 8 predicted\n"
     ]
    },
    {
     "name": "stdout",
     "output_type": "stream",
     "text": [
      "\n",
      "image 1/1 c:\\WORK STUFF LOL\\NTU file\\NTU file\\NTU courses\\3rd year\\Deep learning\\Individual Project2\\Hard Hat - Vest\\images\\test\\000079.jpg: 640x640 1 helmet, 11.7ms\n",
      "Speed: 2.4ms preprocess, 11.7ms inference, 1.9ms postprocess per image at shape (1, 3, 640, 640)\n",
      "\n",
      "image 1/1 c:\\WORK STUFF LOL\\NTU file\\NTU file\\NTU courses\\3rd year\\Deep learning\\Individual Project2\\Hard Hat - Vest\\images\\test\\000097.jpg: 640x640 1 helmet, 5.7ms\n",
      "Speed: 2.2ms preprocess, 5.7ms inference, 3.0ms postprocess per image at shape (1, 3, 640, 640)\n",
      "\n",
      "image 1/1 c:\\WORK STUFF LOL\\NTU file\\NTU file\\NTU courses\\3rd year\\Deep learning\\Individual Project2\\Hard Hat - Vest\\images\\test\\000104.jpg: 640x640 4 helmets, 1 vest, 1 head, 9.8ms\n",
      "Speed: 2.3ms preprocess, 9.8ms inference, 1.7ms postprocess per image at shape (1, 3, 640, 640)\n"
     ]
    },
    {
     "name": "stderr",
     "output_type": "stream",
     "text": [
      "2025-05-24 22:37:21,016 - WARNING - Label-prediction mismatch in 000104.jpg: 5 ground truth vs 6 predicted\n"
     ]
    },
    {
     "name": "stdout",
     "output_type": "stream",
     "text": [
      "\n",
      "image 1/1 c:\\WORK STUFF LOL\\NTU file\\NTU file\\NTU courses\\3rd year\\Deep learning\\Individual Project2\\Hard Hat - Vest\\images\\test\\000138.jpg: 640x640 1 helmet, 1 vest, 7.9ms\n",
      "Speed: 2.3ms preprocess, 7.9ms inference, 6.7ms postprocess per image at shape (1, 3, 640, 640)\n"
     ]
    },
    {
     "name": "stderr",
     "output_type": "stream",
     "text": [
      "2025-05-24 22:37:21,049 - WARNING - Label-prediction mismatch in 000138.jpg: 1 ground truth vs 2 predicted\n"
     ]
    },
    {
     "name": "stdout",
     "output_type": "stream",
     "text": [
      "\n",
      "image 1/1 c:\\WORK STUFF LOL\\NTU file\\NTU file\\NTU courses\\3rd year\\Deep learning\\Individual Project2\\Hard Hat - Vest\\images\\test\\000142.jpg: 640x640 4 helmets, 12.1ms\n",
      "Speed: 3.0ms preprocess, 12.1ms inference, 2.6ms postprocess per image at shape (1, 3, 640, 640)\n",
      "\n",
      "image 1/1 c:\\WORK STUFF LOL\\NTU file\\NTU file\\NTU courses\\3rd year\\Deep learning\\Individual Project2\\Hard Hat - Vest\\images\\test\\000144.jpg: 640x640 1 helmet, 8.6ms\n",
      "Speed: 3.1ms preprocess, 8.6ms inference, 1.9ms postprocess per image at shape (1, 3, 640, 640)\n",
      "\n",
      "image 1/1 c:\\WORK STUFF LOL\\NTU file\\NTU file\\NTU courses\\3rd year\\Deep learning\\Individual Project2\\Hard Hat - Vest\\images\\test\\000145.jpg: 640x640 4 helmets, 6.6ms\n",
      "Speed: 2.3ms preprocess, 6.6ms inference, 2.3ms postprocess per image at shape (1, 3, 640, 640)\n"
     ]
    },
    {
     "name": "stderr",
     "output_type": "stream",
     "text": [
      "2025-05-24 22:37:21,131 - WARNING - Label-prediction mismatch in 000145.jpg: 2 ground truth vs 4 predicted\n"
     ]
    },
    {
     "name": "stdout",
     "output_type": "stream",
     "text": [
      "\n",
      "image 1/1 c:\\WORK STUFF LOL\\NTU file\\NTU file\\NTU courses\\3rd year\\Deep learning\\Individual Project2\\Hard Hat - Vest\\images\\test\\000147.jpg: 640x640 2 helmets, 7.5ms\n",
      "Speed: 2.5ms preprocess, 7.5ms inference, 2.0ms postprocess per image at shape (1, 3, 640, 640)\n",
      "\n",
      "image 1/1 c:\\WORK STUFF LOL\\NTU file\\NTU file\\NTU courses\\3rd year\\Deep learning\\Individual Project2\\Hard Hat - Vest\\images\\test\\000153.jpg: 640x640 1 helmet, 6.1ms\n",
      "Speed: 2.0ms preprocess, 6.1ms inference, 2.9ms postprocess per image at shape (1, 3, 640, 640)\n"
     ]
    },
    {
     "name": "stderr",
     "output_type": "stream",
     "text": [
      "2025-05-24 22:37:21,177 - WARNING - Label-prediction mismatch in 000153.jpg: 2 ground truth vs 1 predicted\n"
     ]
    },
    {
     "name": "stdout",
     "output_type": "stream",
     "text": [
      "\n",
      "image 1/1 c:\\WORK STUFF LOL\\NTU file\\NTU file\\NTU courses\\3rd year\\Deep learning\\Individual Project2\\Hard Hat - Vest\\images\\test\\000164.jpg: 640x640 4 heads, 8.7ms\n",
      "Speed: 2.2ms preprocess, 8.7ms inference, 1.6ms postprocess per image at shape (1, 3, 640, 640)\n",
      "\n",
      "image 1/1 c:\\WORK STUFF LOL\\NTU file\\NTU file\\NTU courses\\3rd year\\Deep learning\\Individual Project2\\Hard Hat - Vest\\images\\test\\000170.jpg: 640x640 6 heads, 6.4ms\n",
      "Speed: 2.0ms preprocess, 6.4ms inference, 2.6ms postprocess per image at shape (1, 3, 640, 640)\n",
      "\n",
      "image 1/1 c:\\WORK STUFF LOL\\NTU file\\NTU file\\NTU courses\\3rd year\\Deep learning\\Individual Project2\\Hard Hat - Vest\\images\\test\\000179.jpg: 640x640 4 helmets, 7.7ms\n",
      "Speed: 2.3ms preprocess, 7.7ms inference, 1.6ms postprocess per image at shape (1, 3, 640, 640)\n"
     ]
    },
    {
     "name": "stderr",
     "output_type": "stream",
     "text": [
      "2025-05-24 22:37:21,245 - WARNING - Label-prediction mismatch in 000179.jpg: 1 ground truth vs 4 predicted\n"
     ]
    },
    {
     "name": "stdout",
     "output_type": "stream",
     "text": [
      "\n",
      "image 1/1 c:\\WORK STUFF LOL\\NTU file\\NTU file\\NTU courses\\3rd year\\Deep learning\\Individual Project2\\Hard Hat - Vest\\images\\test\\000186.jpg: 640x640 18 helmets, 10.6ms\n",
      "Speed: 2.1ms preprocess, 10.6ms inference, 2.6ms postprocess per image at shape (1, 3, 640, 640)\n"
     ]
    },
    {
     "name": "stderr",
     "output_type": "stream",
     "text": [
      "2025-05-24 22:37:21,274 - WARNING - Label-prediction mismatch in 000186.jpg: 17 ground truth vs 18 predicted\n"
     ]
    },
    {
     "name": "stdout",
     "output_type": "stream",
     "text": [
      "\n",
      "image 1/1 c:\\WORK STUFF LOL\\NTU file\\NTU file\\NTU courses\\3rd year\\Deep learning\\Individual Project2\\Hard Hat - Vest\\images\\test\\000193.jpg: 640x640 6 heads, 13.5ms\n",
      "Speed: 2.6ms preprocess, 13.5ms inference, 1.8ms postprocess per image at shape (1, 3, 640, 640)\n",
      "\n",
      "image 1/1 c:\\WORK STUFF LOL\\NTU file\\NTU file\\NTU courses\\3rd year\\Deep learning\\Individual Project2\\Hard Hat - Vest\\images\\test\\000194.jpg: 640x640 5 helmets, 7 vests, 14.1ms\n",
      "Speed: 2.5ms preprocess, 14.1ms inference, 1.5ms postprocess per image at shape (1, 3, 640, 640)\n"
     ]
    },
    {
     "name": "stderr",
     "output_type": "stream",
     "text": [
      "2025-05-24 22:37:21,342 - WARNING - Label-prediction mismatch in 000194.jpg: 5 ground truth vs 12 predicted\n"
     ]
    },
    {
     "name": "stdout",
     "output_type": "stream",
     "text": [
      "\n",
      "image 1/1 c:\\WORK STUFF LOL\\NTU file\\NTU file\\NTU courses\\3rd year\\Deep learning\\Individual Project2\\Hard Hat - Vest\\images\\test\\000203.jpg: 640x640 2 helmets, 12.7ms\n",
      "Speed: 2.4ms preprocess, 12.7ms inference, 3.3ms postprocess per image at shape (1, 3, 640, 640)\n",
      "\n",
      "image 1/1 c:\\WORK STUFF LOL\\NTU file\\NTU file\\NTU courses\\3rd year\\Deep learning\\Individual Project2\\Hard Hat - Vest\\images\\test\\000220.jpg: 640x640 10 heads, 7.3ms\n",
      "Speed: 2.5ms preprocess, 7.3ms inference, 1.9ms postprocess per image at shape (1, 3, 640, 640)\n",
      "\n",
      "image 1/1 c:\\WORK STUFF LOL\\NTU file\\NTU file\\NTU courses\\3rd year\\Deep learning\\Individual Project2\\Hard Hat - Vest\\images\\test\\000221.jpg: 640x640 1 vest, 8 heads, 11.3ms\n",
      "Speed: 2.4ms preprocess, 11.3ms inference, 2.1ms postprocess per image at shape (1, 3, 640, 640)\n"
     ]
    },
    {
     "name": "stderr",
     "output_type": "stream",
     "text": [
      "2025-05-24 22:37:21,428 - WARNING - Label-prediction mismatch in 000221.jpg: 7 ground truth vs 9 predicted\n"
     ]
    },
    {
     "name": "stdout",
     "output_type": "stream",
     "text": [
      "\n",
      "image 1/1 c:\\WORK STUFF LOL\\NTU file\\NTU file\\NTU courses\\3rd year\\Deep learning\\Individual Project2\\Hard Hat - Vest\\images\\test\\000226.jpg: 640x640 3 helmets, 10.2ms\n",
      "Speed: 2.8ms preprocess, 10.2ms inference, 1.6ms postprocess per image at shape (1, 3, 640, 640)\n"
     ]
    },
    {
     "name": "stderr",
     "output_type": "stream",
     "text": [
      "2025-05-24 22:37:21,459 - WARNING - Label-prediction mismatch in 000226.jpg: 2 ground truth vs 3 predicted\n"
     ]
    },
    {
     "name": "stdout",
     "output_type": "stream",
     "text": [
      "\n",
      "image 1/1 c:\\WORK STUFF LOL\\NTU file\\NTU file\\NTU courses\\3rd year\\Deep learning\\Individual Project2\\Hard Hat - Vest\\images\\test\\000236.jpg: 640x640 2 helmets, 4 heads, 6.3ms\n",
      "Speed: 2.3ms preprocess, 6.3ms inference, 2.1ms postprocess per image at shape (1, 3, 640, 640)\n"
     ]
    },
    {
     "name": "stderr",
     "output_type": "stream",
     "text": [
      "2025-05-24 22:37:21,485 - WARNING - Label-prediction mismatch in 000236.jpg: 8 ground truth vs 6 predicted\n"
     ]
    },
    {
     "name": "stdout",
     "output_type": "stream",
     "text": [
      "\n",
      "image 1/1 c:\\WORK STUFF LOL\\NTU file\\NTU file\\NTU courses\\3rd year\\Deep learning\\Individual Project2\\Hard Hat - Vest\\images\\test\\000241.jpg: 640x640 4 helmets, 9.4ms\n",
      "Speed: 2.7ms preprocess, 9.4ms inference, 2.1ms postprocess per image at shape (1, 3, 640, 640)\n",
      "\n",
      "image 1/1 c:\\WORK STUFF LOL\\NTU file\\NTU file\\NTU courses\\3rd year\\Deep learning\\Individual Project2\\Hard Hat - Vest\\images\\test\\000242.jpg: 640x640 5 heads, 7.1ms\n",
      "Speed: 2.9ms preprocess, 7.1ms inference, 1.7ms postprocess per image at shape (1, 3, 640, 640)\n",
      "\n",
      "image 1/1 c:\\WORK STUFF LOL\\NTU file\\NTU file\\NTU courses\\3rd year\\Deep learning\\Individual Project2\\Hard Hat - Vest\\images\\test\\000277.jpg: 640x640 4 helmets, 5.6ms\n",
      "Speed: 2.0ms preprocess, 5.6ms inference, 1.9ms postprocess per image at shape (1, 3, 640, 640)\n"
     ]
    },
    {
     "name": "stderr",
     "output_type": "stream",
     "text": [
      "2025-05-24 22:37:21,559 - WARNING - Label-prediction mismatch in 000277.jpg: 3 ground truth vs 4 predicted\n"
     ]
    },
    {
     "name": "stdout",
     "output_type": "stream",
     "text": [
      "\n",
      "image 1/1 c:\\WORK STUFF LOL\\NTU file\\NTU file\\NTU courses\\3rd year\\Deep learning\\Individual Project2\\Hard Hat - Vest\\images\\test\\000307.jpg: 640x640 1 helmet, 7.5ms\n",
      "Speed: 2.2ms preprocess, 7.5ms inference, 2.0ms postprocess per image at shape (1, 3, 640, 640)\n",
      "\n",
      "image 1/1 c:\\WORK STUFF LOL\\NTU file\\NTU file\\NTU courses\\3rd year\\Deep learning\\Individual Project2\\Hard Hat - Vest\\images\\test\\000314.jpg: 640x640 3 helmets, 5.4ms\n",
      "Speed: 2.2ms preprocess, 5.4ms inference, 1.6ms postprocess per image at shape (1, 3, 640, 640)\n",
      "\n",
      "image 1/1 c:\\WORK STUFF LOL\\NTU file\\NTU file\\NTU courses\\3rd year\\Deep learning\\Individual Project2\\Hard Hat - Vest\\images\\test\\000322.jpg: 640x640 2 helmets, 2 vests, 9.4ms\n",
      "Speed: 2.2ms preprocess, 9.4ms inference, 1.4ms postprocess per image at shape (1, 3, 640, 640)\n"
     ]
    },
    {
     "name": "stderr",
     "output_type": "stream",
     "text": [
      "2025-05-24 22:37:21,628 - WARNING - Label-prediction mismatch in 000322.jpg: 3 ground truth vs 4 predicted\n"
     ]
    },
    {
     "name": "stdout",
     "output_type": "stream",
     "text": [
      "\n",
      "image 1/1 c:\\WORK STUFF LOL\\NTU file\\NTU file\\NTU courses\\3rd year\\Deep learning\\Individual Project2\\Hard Hat - Vest\\images\\test\\000331.jpg: 640x640 4 helmets, 1 vest, 2 heads, 10.4ms\n",
      "Speed: 2.6ms preprocess, 10.4ms inference, 1.4ms postprocess per image at shape (1, 3, 640, 640)\n"
     ]
    },
    {
     "name": "stderr",
     "output_type": "stream",
     "text": [
      "2025-05-24 22:37:21,653 - WARNING - Label-prediction mismatch in 000331.jpg: 4 ground truth vs 7 predicted\n"
     ]
    },
    {
     "name": "stdout",
     "output_type": "stream",
     "text": [
      "\n",
      "image 1/1 c:\\WORK STUFF LOL\\NTU file\\NTU file\\NTU courses\\3rd year\\Deep learning\\Individual Project2\\Hard Hat - Vest\\images\\test\\000341.jpg: 640x640 3 helmets, 7.4ms\n",
      "Speed: 2.1ms preprocess, 7.4ms inference, 2.3ms postprocess per image at shape (1, 3, 640, 640)\n",
      "\n",
      "image 1/1 c:\\WORK STUFF LOL\\NTU file\\NTU file\\NTU courses\\3rd year\\Deep learning\\Individual Project2\\Hard Hat - Vest\\images\\test\\000366.jpg: 640x640 4 heads, 6.8ms\n",
      "Speed: 2.5ms preprocess, 6.8ms inference, 1.5ms postprocess per image at shape (1, 3, 640, 640)\n",
      "\n",
      "image 1/1 c:\\WORK STUFF LOL\\NTU file\\NTU file\\NTU courses\\3rd year\\Deep learning\\Individual Project2\\Hard Hat - Vest\\images\\test\\000374.jpg: 640x640 9 helmets, 7.4ms\n",
      "Speed: 2.3ms preprocess, 7.4ms inference, 1.6ms postprocess per image at shape (1, 3, 640, 640)\n"
     ]
    },
    {
     "name": "stderr",
     "output_type": "stream",
     "text": [
      "2025-05-24 22:37:21,730 - WARNING - Label-prediction mismatch in 000374.jpg: 7 ground truth vs 9 predicted\n"
     ]
    },
    {
     "name": "stdout",
     "output_type": "stream",
     "text": [
      "\n",
      "image 1/1 c:\\WORK STUFF LOL\\NTU file\\NTU file\\NTU courses\\3rd year\\Deep learning\\Individual Project2\\Hard Hat - Vest\\images\\test\\000390.jpg: 640x640 2 helmets, 5.6ms\n",
      "Speed: 2.4ms preprocess, 5.6ms inference, 1.7ms postprocess per image at shape (1, 3, 640, 640)\n",
      "\n",
      "image 1/1 c:\\WORK STUFF LOL\\NTU file\\NTU file\\NTU courses\\3rd year\\Deep learning\\Individual Project2\\Hard Hat - Vest\\images\\test\\000395.jpg: 640x640 3 helmets, 3 vests, 6.1ms\n",
      "Speed: 2.3ms preprocess, 6.1ms inference, 1.4ms postprocess per image at shape (1, 3, 640, 640)\n",
      "\n",
      "image 1/1 c:\\WORK STUFF LOL\\NTU file\\NTU file\\NTU courses\\3rd year\\Deep learning\\Individual Project2\\Hard Hat - Vest\\images\\test\\000396.jpg: 640x640 2 helmets, 14.5ms\n",
      "Speed: 2.9ms preprocess, 14.5ms inference, 3.6ms postprocess per image at shape (1, 3, 640, 640)\n"
     ]
    },
    {
     "name": "stderr",
     "output_type": "stream",
     "text": [
      "2025-05-24 22:37:21,805 - WARNING - Label-prediction mismatch in 000396.jpg: 3 ground truth vs 2 predicted\n"
     ]
    },
    {
     "name": "stdout",
     "output_type": "stream",
     "text": [
      "\n",
      "image 1/1 c:\\WORK STUFF LOL\\NTU file\\NTU file\\NTU courses\\3rd year\\Deep learning\\Individual Project2\\Hard Hat - Vest\\images\\test\\000401.jpg: 640x640 4 helmets, 1 vest, 13.9ms\n",
      "Speed: 2.2ms preprocess, 13.9ms inference, 4.2ms postprocess per image at shape (1, 3, 640, 640)\n"
     ]
    },
    {
     "name": "stderr",
     "output_type": "stream",
     "text": [
      "2025-05-24 22:37:21,841 - WARNING - Label-prediction mismatch in 000401.jpg: 3 ground truth vs 5 predicted\n"
     ]
    },
    {
     "name": "stdout",
     "output_type": "stream",
     "text": [
      "\n",
      "image 1/1 c:\\WORK STUFF LOL\\NTU file\\NTU file\\NTU courses\\3rd year\\Deep learning\\Individual Project2\\Hard Hat - Vest\\images\\test\\000426.jpg: 640x640 2 helmets, 22.1ms\n",
      "Speed: 3.3ms preprocess, 22.1ms inference, 3.9ms postprocess per image at shape (1, 3, 640, 640)\n",
      "\n",
      "image 1/1 c:\\WORK STUFF LOL\\NTU file\\NTU file\\NTU courses\\3rd year\\Deep learning\\Individual Project2\\Hard Hat - Vest\\images\\test\\000451.jpg: 640x640 3 helmets, 6.9ms\n",
      "Speed: 2.1ms preprocess, 6.9ms inference, 1.6ms postprocess per image at shape (1, 3, 640, 640)\n"
     ]
    },
    {
     "name": "stderr",
     "output_type": "stream",
     "text": [
      "2025-05-24 22:37:21,909 - WARNING - Label-prediction mismatch in 000451.jpg: 2 ground truth vs 3 predicted\n"
     ]
    },
    {
     "name": "stdout",
     "output_type": "stream",
     "text": [
      "\n",
      "image 1/1 c:\\WORK STUFF LOL\\NTU file\\NTU file\\NTU courses\\3rd year\\Deep learning\\Individual Project2\\Hard Hat - Vest\\images\\test\\000454.jpg: 640x640 (no detections), 6.7ms\n",
      "Speed: 2.2ms preprocess, 6.7ms inference, 0.6ms postprocess per image at shape (1, 3, 640, 640)\n"
     ]
    },
    {
     "name": "stderr",
     "output_type": "stream",
     "text": [
      "2025-05-24 22:37:21,929 - WARNING - Label-prediction mismatch in 000454.jpg: 1 ground truth vs 0 predicted\n"
     ]
    },
    {
     "name": "stdout",
     "output_type": "stream",
     "text": [
      "\n",
      "image 1/1 c:\\WORK STUFF LOL\\NTU file\\NTU file\\NTU courses\\3rd year\\Deep learning\\Individual Project2\\Hard Hat - Vest\\images\\test\\000483.jpg: 640x640 1 helmet, 5.6ms\n",
      "Speed: 2.1ms preprocess, 5.6ms inference, 3.2ms postprocess per image at shape (1, 3, 640, 640)\n",
      "\n",
      "image 1/1 c:\\WORK STUFF LOL\\NTU file\\NTU file\\NTU courses\\3rd year\\Deep learning\\Individual Project2\\Hard Hat - Vest\\images\\test\\000486.jpg: 640x640 1 helmet, 8 heads, 5.7ms\n",
      "Speed: 2.3ms preprocess, 5.7ms inference, 1.4ms postprocess per image at shape (1, 3, 640, 640)\n"
     ]
    },
    {
     "name": "stderr",
     "output_type": "stream",
     "text": [
      "2025-05-24 22:37:21,969 - WARNING - Label-prediction mismatch in 000486.jpg: 4 ground truth vs 9 predicted\n"
     ]
    },
    {
     "name": "stdout",
     "output_type": "stream",
     "text": [
      "\n",
      "image 1/1 c:\\WORK STUFF LOL\\NTU file\\NTU file\\NTU courses\\3rd year\\Deep learning\\Individual Project2\\Hard Hat - Vest\\images\\test\\000505.jpg: 640x640 (no detections), 10.5ms\n",
      "Speed: 2.2ms preprocess, 10.5ms inference, 1.1ms postprocess per image at shape (1, 3, 640, 640)\n"
     ]
    },
    {
     "name": "stderr",
     "output_type": "stream",
     "text": [
      "2025-05-24 22:37:21,993 - WARNING - Label-prediction mismatch in 000505.jpg: 3 ground truth vs 0 predicted\n"
     ]
    },
    {
     "name": "stdout",
     "output_type": "stream",
     "text": [
      "\n",
      "image 1/1 c:\\WORK STUFF LOL\\NTU file\\NTU file\\NTU courses\\3rd year\\Deep learning\\Individual Project2\\Hard Hat - Vest\\images\\test\\000533.jpg: 640x640 2 helmets, 10.4ms\n",
      "Speed: 1.9ms preprocess, 10.4ms inference, 2.3ms postprocess per image at shape (1, 3, 640, 640)\n"
     ]
    },
    {
     "name": "stderr",
     "output_type": "stream",
     "text": [
      "2025-05-24 22:37:22,019 - WARNING - Label-prediction mismatch in 000533.jpg: 3 ground truth vs 2 predicted\n"
     ]
    },
    {
     "name": "stdout",
     "output_type": "stream",
     "text": [
      "\n",
      "image 1/1 c:\\WORK STUFF LOL\\NTU file\\NTU file\\NTU courses\\3rd year\\Deep learning\\Individual Project2\\Hard Hat - Vest\\images\\test\\000534.jpg: 640x640 6 helmets, 4 heads, 6.2ms\n",
      "Speed: 2.2ms preprocess, 6.2ms inference, 2.7ms postprocess per image at shape (1, 3, 640, 640)\n"
     ]
    },
    {
     "name": "stderr",
     "output_type": "stream",
     "text": [
      "2025-05-24 22:37:22,045 - WARNING - Label-prediction mismatch in 000534.jpg: 9 ground truth vs 10 predicted\n"
     ]
    },
    {
     "name": "stdout",
     "output_type": "stream",
     "text": [
      "\n",
      "image 1/1 c:\\WORK STUFF LOL\\NTU file\\NTU file\\NTU courses\\3rd year\\Deep learning\\Individual Project2\\Hard Hat - Vest\\images\\test\\000536.jpg: 640x640 2 helmets, 1 vest, 5.3ms\n",
      "Speed: 2.0ms preprocess, 5.3ms inference, 1.4ms postprocess per image at shape (1, 3, 640, 640)\n"
     ]
    },
    {
     "name": "stderr",
     "output_type": "stream",
     "text": [
      "2025-05-24 22:37:22,066 - WARNING - Label-prediction mismatch in 000536.jpg: 4 ground truth vs 3 predicted\n"
     ]
    },
    {
     "name": "stdout",
     "output_type": "stream",
     "text": [
      "\n",
      "image 1/1 c:\\WORK STUFF LOL\\NTU file\\NTU file\\NTU courses\\3rd year\\Deep learning\\Individual Project2\\Hard Hat - Vest\\images\\test\\000538.jpg: 640x640 3 helmets, 5.4ms\n",
      "Speed: 2.0ms preprocess, 5.4ms inference, 1.5ms postprocess per image at shape (1, 3, 640, 640)\n"
     ]
    },
    {
     "name": "stderr",
     "output_type": "stream",
     "text": [
      "2025-05-24 22:37:22,085 - WARNING - Label-prediction mismatch in 000538.jpg: 2 ground truth vs 3 predicted\n"
     ]
    },
    {
     "name": "stdout",
     "output_type": "stream",
     "text": [
      "\n",
      "image 1/1 c:\\WORK STUFF LOL\\NTU file\\NTU file\\NTU courses\\3rd year\\Deep learning\\Individual Project2\\Hard Hat - Vest\\images\\test\\000570.jpg: 640x640 3 helmets, 4 heads, 6.1ms\n",
      "Speed: 1.9ms preprocess, 6.1ms inference, 1.6ms postprocess per image at shape (1, 3, 640, 640)\n"
     ]
    },
    {
     "name": "stderr",
     "output_type": "stream",
     "text": [
      "2025-05-24 22:37:22,105 - WARNING - Label-prediction mismatch in 000570.jpg: 5 ground truth vs 7 predicted\n"
     ]
    },
    {
     "name": "stdout",
     "output_type": "stream",
     "text": [
      "\n",
      "image 1/1 c:\\WORK STUFF LOL\\NTU file\\NTU file\\NTU courses\\3rd year\\Deep learning\\Individual Project2\\Hard Hat - Vest\\images\\test\\000576.jpg: 640x640 1 helmet, 7.0ms\n",
      "Speed: 2.1ms preprocess, 7.0ms inference, 1.6ms postprocess per image at shape (1, 3, 640, 640)\n",
      "\n",
      "image 1/1 c:\\WORK STUFF LOL\\NTU file\\NTU file\\NTU courses\\3rd year\\Deep learning\\Individual Project2\\Hard Hat - Vest\\images\\test\\000601.jpg: 640x640 1 helmet, 1 vest, 5.7ms\n",
      "Speed: 1.9ms preprocess, 5.7ms inference, 1.9ms postprocess per image at shape (1, 3, 640, 640)\n",
      "\n",
      "image 1/1 c:\\WORK STUFF LOL\\NTU file\\NTU file\\NTU courses\\3rd year\\Deep learning\\Individual Project2\\Hard Hat - Vest\\images\\test\\000603.jpg: 640x640 2 helmets, 6.6ms\n",
      "Speed: 1.9ms preprocess, 6.6ms inference, 1.4ms postprocess per image at shape (1, 3, 640, 640)\n",
      "\n",
      "image 1/1 c:\\WORK STUFF LOL\\NTU file\\NTU file\\NTU courses\\3rd year\\Deep learning\\Individual Project2\\Hard Hat - Vest\\images\\test\\000604.jpg: 640x640 1 helmet, 6.1ms\n",
      "Speed: 2.1ms preprocess, 6.1ms inference, 1.2ms postprocess per image at shape (1, 3, 640, 640)\n",
      "\n",
      "image 1/1 c:\\WORK STUFF LOL\\NTU file\\NTU file\\NTU courses\\3rd year\\Deep learning\\Individual Project2\\Hard Hat - Vest\\images\\test\\000606.jpg: 640x640 2 helmets, 2 vests, 16.9ms\n",
      "Speed: 2.4ms preprocess, 16.9ms inference, 3.6ms postprocess per image at shape (1, 3, 640, 640)\n"
     ]
    },
    {
     "name": "stderr",
     "output_type": "stream",
     "text": [
      "2025-05-24 22:37:22,220 - WARNING - Label-prediction mismatch in 000606.jpg: 1 ground truth vs 4 predicted\n"
     ]
    },
    {
     "name": "stdout",
     "output_type": "stream",
     "text": [
      "\n",
      "image 1/1 c:\\WORK STUFF LOL\\NTU file\\NTU file\\NTU courses\\3rd year\\Deep learning\\Individual Project2\\Hard Hat - Vest\\images\\test\\000619.jpg: 640x640 3 helmets, 15.1ms\n",
      "Speed: 3.3ms preprocess, 15.1ms inference, 3.3ms postprocess per image at shape (1, 3, 640, 640)\n",
      "\n",
      "image 1/1 c:\\WORK STUFF LOL\\NTU file\\NTU file\\NTU courses\\3rd year\\Deep learning\\Individual Project2\\Hard Hat - Vest\\images\\test\\000632.jpg: 640x640 1 helmet, 1 vest, 8.1ms\n",
      "Speed: 2.3ms preprocess, 8.1ms inference, 3.8ms postprocess per image at shape (1, 3, 640, 640)\n",
      "\n",
      "image 1/1 c:\\WORK STUFF LOL\\NTU file\\NTU file\\NTU courses\\3rd year\\Deep learning\\Individual Project2\\Hard Hat - Vest\\images\\test\\000636.jpg: 640x640 2 helmets, 1 vest, 6.0ms\n",
      "Speed: 2.2ms preprocess, 6.0ms inference, 1.5ms postprocess per image at shape (1, 3, 640, 640)\n"
     ]
    },
    {
     "name": "stderr",
     "output_type": "stream",
     "text": [
      "2025-05-24 22:37:22,305 - WARNING - Label-prediction mismatch in 000636.jpg: 1 ground truth vs 3 predicted\n"
     ]
    },
    {
     "name": "stdout",
     "output_type": "stream",
     "text": [
      "\n",
      "image 1/1 c:\\WORK STUFF LOL\\NTU file\\NTU file\\NTU courses\\3rd year\\Deep learning\\Individual Project2\\Hard Hat - Vest\\images\\test\\000639.jpg: 640x640 4 helmets, 12.9ms\n",
      "Speed: 3.0ms preprocess, 12.9ms inference, 2.8ms postprocess per image at shape (1, 3, 640, 640)\n"
     ]
    },
    {
     "name": "stderr",
     "output_type": "stream",
     "text": [
      "2025-05-24 22:37:22,337 - WARNING - Label-prediction mismatch in 000639.jpg: 7 ground truth vs 4 predicted\n"
     ]
    },
    {
     "name": "stdout",
     "output_type": "stream",
     "text": [
      "\n",
      "image 1/1 c:\\WORK STUFF LOL\\NTU file\\NTU file\\NTU courses\\3rd year\\Deep learning\\Individual Project2\\Hard Hat - Vest\\images\\test\\000643.jpg: 640x640 6 helmets, 1 head, 12.0ms\n",
      "Speed: 2.4ms preprocess, 12.0ms inference, 1.9ms postprocess per image at shape (1, 3, 640, 640)\n"
     ]
    },
    {
     "name": "stderr",
     "output_type": "stream",
     "text": [
      "2025-05-24 22:37:22,368 - WARNING - Label-prediction mismatch in 000643.jpg: 9 ground truth vs 7 predicted\n"
     ]
    },
    {
     "name": "stdout",
     "output_type": "stream",
     "text": [
      "\n",
      "image 1/1 c:\\WORK STUFF LOL\\NTU file\\NTU file\\NTU courses\\3rd year\\Deep learning\\Individual Project2\\Hard Hat - Vest\\images\\test\\000651.jpg: 640x640 12 helmets, 1 vest, 6.6ms\n",
      "Speed: 2.1ms preprocess, 6.6ms inference, 3.1ms postprocess per image at shape (1, 3, 640, 640)\n"
     ]
    },
    {
     "name": "stderr",
     "output_type": "stream",
     "text": [
      "2025-05-24 22:37:22,393 - WARNING - Label-prediction mismatch in 000651.jpg: 11 ground truth vs 13 predicted\n"
     ]
    },
    {
     "name": "stdout",
     "output_type": "stream",
     "text": [
      "\n",
      "image 1/1 c:\\WORK STUFF LOL\\NTU file\\NTU file\\NTU courses\\3rd year\\Deep learning\\Individual Project2\\Hard Hat - Vest\\images\\test\\000653.jpg: 640x640 1 vest, 7 heads, 10.8ms\n",
      "Speed: 2.3ms preprocess, 10.8ms inference, 2.0ms postprocess per image at shape (1, 3, 640, 640)\n"
     ]
    },
    {
     "name": "stderr",
     "output_type": "stream",
     "text": [
      "2025-05-24 22:37:22,425 - WARNING - Label-prediction mismatch in 000653.jpg: 7 ground truth vs 8 predicted\n"
     ]
    },
    {
     "name": "stdout",
     "output_type": "stream",
     "text": [
      "\n",
      "image 1/1 c:\\WORK STUFF LOL\\NTU file\\NTU file\\NTU courses\\3rd year\\Deep learning\\Individual Project2\\Hard Hat - Vest\\images\\test\\000655.jpg: 640x640 3 helmets, 2 vests, 9.7ms\n",
      "Speed: 2.6ms preprocess, 9.7ms inference, 4.0ms postprocess per image at shape (1, 3, 640, 640)\n"
     ]
    },
    {
     "name": "stderr",
     "output_type": "stream",
     "text": [
      "2025-05-24 22:37:22,458 - WARNING - Label-prediction mismatch in 000655.jpg: 4 ground truth vs 5 predicted\n"
     ]
    },
    {
     "name": "stdout",
     "output_type": "stream",
     "text": [
      "\n",
      "image 1/1 c:\\WORK STUFF LOL\\NTU file\\NTU file\\NTU courses\\3rd year\\Deep learning\\Individual Project2\\Hard Hat - Vest\\images\\test\\000658.jpg: 640x640 1 helmet, 11.0ms\n",
      "Speed: 2.3ms preprocess, 11.0ms inference, 1.8ms postprocess per image at shape (1, 3, 640, 640)\n"
     ]
    },
    {
     "name": "stderr",
     "output_type": "stream",
     "text": [
      "2025-05-24 22:37:22,486 - WARNING - Label-prediction mismatch in 000658.jpg: 2 ground truth vs 1 predicted\n"
     ]
    },
    {
     "name": "stdout",
     "output_type": "stream",
     "text": [
      "\n",
      "image 1/1 c:\\WORK STUFF LOL\\NTU file\\NTU file\\NTU courses\\3rd year\\Deep learning\\Individual Project2\\Hard Hat - Vest\\images\\test\\000667.jpg: 640x640 2 helmets, 1 vest, 7.7ms\n",
      "Speed: 2.8ms preprocess, 7.7ms inference, 1.9ms postprocess per image at shape (1, 3, 640, 640)\n"
     ]
    },
    {
     "name": "stderr",
     "output_type": "stream",
     "text": [
      "2025-05-24 22:37:22,510 - WARNING - Label-prediction mismatch in 000667.jpg: 4 ground truth vs 3 predicted\n"
     ]
    },
    {
     "name": "stdout",
     "output_type": "stream",
     "text": [
      "\n",
      "image 1/1 c:\\WORK STUFF LOL\\NTU file\\NTU file\\NTU courses\\3rd year\\Deep learning\\Individual Project2\\Hard Hat - Vest\\images\\test\\000674.jpg: 640x640 2 helmets, 5 heads, 5.3ms\n",
      "Speed: 2.0ms preprocess, 5.3ms inference, 1.4ms postprocess per image at shape (1, 3, 640, 640)\n"
     ]
    },
    {
     "name": "stderr",
     "output_type": "stream",
     "text": [
      "2025-05-24 22:37:22,530 - WARNING - Label-prediction mismatch in 000674.jpg: 6 ground truth vs 7 predicted\n"
     ]
    },
    {
     "name": "stdout",
     "output_type": "stream",
     "text": [
      "\n",
      "image 1/1 c:\\WORK STUFF LOL\\NTU file\\NTU file\\NTU courses\\3rd year\\Deep learning\\Individual Project2\\Hard Hat - Vest\\images\\test\\000680.jpg: 640x640 11 helmets, 5.8ms\n",
      "Speed: 2.1ms preprocess, 5.8ms inference, 2.3ms postprocess per image at shape (1, 3, 640, 640)\n"
     ]
    },
    {
     "name": "stderr",
     "output_type": "stream",
     "text": [
      "2025-05-24 22:37:22,552 - WARNING - Label-prediction mismatch in 000680.jpg: 9 ground truth vs 11 predicted\n"
     ]
    },
    {
     "name": "stdout",
     "output_type": "stream",
     "text": [
      "\n",
      "image 1/1 c:\\WORK STUFF LOL\\NTU file\\NTU file\\NTU courses\\3rd year\\Deep learning\\Individual Project2\\Hard Hat - Vest\\images\\test\\000683.jpg: 640x640 7 helmets, 1 head, 10.1ms\n",
      "Speed: 2.2ms preprocess, 10.1ms inference, 1.7ms postprocess per image at shape (1, 3, 640, 640)\n"
     ]
    },
    {
     "name": "stderr",
     "output_type": "stream",
     "text": [
      "2025-05-24 22:37:22,578 - WARNING - Label-prediction mismatch in 000683.jpg: 1 ground truth vs 8 predicted\n"
     ]
    },
    {
     "name": "stdout",
     "output_type": "stream",
     "text": [
      "\n",
      "image 1/1 c:\\WORK STUFF LOL\\NTU file\\NTU file\\NTU courses\\3rd year\\Deep learning\\Individual Project2\\Hard Hat - Vest\\images\\test\\000695.jpg: 640x640 3 helmets, 5.7ms\n",
      "Speed: 2.7ms preprocess, 5.7ms inference, 1.4ms postprocess per image at shape (1, 3, 640, 640)\n",
      "\n",
      "image 1/1 c:\\WORK STUFF LOL\\NTU file\\NTU file\\NTU courses\\3rd year\\Deep learning\\Individual Project2\\Hard Hat - Vest\\images\\test\\000700.jpg: 640x640 1 vest, 3 heads, 5.5ms\n",
      "Speed: 2.1ms preprocess, 5.5ms inference, 1.4ms postprocess per image at shape (1, 3, 640, 640)\n"
     ]
    },
    {
     "name": "stderr",
     "output_type": "stream",
     "text": [
      "2025-05-24 22:37:22,618 - WARNING - Label-prediction mismatch in 000700.jpg: 3 ground truth vs 4 predicted\n"
     ]
    },
    {
     "name": "stdout",
     "output_type": "stream",
     "text": [
      "\n",
      "image 1/1 c:\\WORK STUFF LOL\\NTU file\\NTU file\\NTU courses\\3rd year\\Deep learning\\Individual Project2\\Hard Hat - Vest\\images\\test\\000713.jpg: 640x640 3 helmets, 7.3ms\n",
      "Speed: 2.0ms preprocess, 7.3ms inference, 1.4ms postprocess per image at shape (1, 3, 640, 640)\n"
     ]
    },
    {
     "name": "stderr",
     "output_type": "stream",
     "text": [
      "2025-05-24 22:37:22,640 - WARNING - Label-prediction mismatch in 000713.jpg: 7 ground truth vs 3 predicted\n"
     ]
    },
    {
     "name": "stdout",
     "output_type": "stream",
     "text": [
      "\n",
      "image 1/1 c:\\WORK STUFF LOL\\NTU file\\NTU file\\NTU courses\\3rd year\\Deep learning\\Individual Project2\\Hard Hat - Vest\\images\\test\\000715.jpg: 640x640 1 helmet, 5.2ms\n",
      "Speed: 2.4ms preprocess, 5.2ms inference, 1.3ms postprocess per image at shape (1, 3, 640, 640)\n",
      "\n",
      "image 1/1 c:\\WORK STUFF LOL\\NTU file\\NTU file\\NTU courses\\3rd year\\Deep learning\\Individual Project2\\Hard Hat - Vest\\images\\test\\000746.jpg: 640x640 3 helmets, 8.1ms\n",
      "Speed: 2.4ms preprocess, 8.1ms inference, 2.0ms postprocess per image at shape (1, 3, 640, 640)\n"
     ]
    },
    {
     "name": "stderr",
     "output_type": "stream",
     "text": [
      "2025-05-24 22:37:22,682 - WARNING - Label-prediction mismatch in 000746.jpg: 1 ground truth vs 3 predicted\n"
     ]
    },
    {
     "name": "stdout",
     "output_type": "stream",
     "text": [
      "\n",
      "image 1/1 c:\\WORK STUFF LOL\\NTU file\\NTU file\\NTU courses\\3rd year\\Deep learning\\Individual Project2\\Hard Hat - Vest\\images\\test\\000765.jpg: 640x640 7 helmets, 5.9ms\n",
      "Speed: 2.1ms preprocess, 5.9ms inference, 1.5ms postprocess per image at shape (1, 3, 640, 640)\n"
     ]
    },
    {
     "name": "stderr",
     "output_type": "stream",
     "text": [
      "2025-05-24 22:37:22,702 - WARNING - Label-prediction mismatch in 000765.jpg: 5 ground truth vs 7 predicted\n"
     ]
    },
    {
     "name": "stdout",
     "output_type": "stream",
     "text": [
      "\n",
      "image 1/1 c:\\WORK STUFF LOL\\NTU file\\NTU file\\NTU courses\\3rd year\\Deep learning\\Individual Project2\\Hard Hat - Vest\\images\\test\\000778.jpg: 640x640 3 helmets, 5.6ms\n",
      "Speed: 2.2ms preprocess, 5.6ms inference, 1.4ms postprocess per image at shape (1, 3, 640, 640)\n"
     ]
    },
    {
     "name": "stderr",
     "output_type": "stream",
     "text": [
      "2025-05-24 22:37:22,724 - WARNING - Label-prediction mismatch in 000778.jpg: 4 ground truth vs 3 predicted\n"
     ]
    },
    {
     "name": "stdout",
     "output_type": "stream",
     "text": [
      "\n",
      "image 1/1 c:\\WORK STUFF LOL\\NTU file\\NTU file\\NTU courses\\3rd year\\Deep learning\\Individual Project2\\Hard Hat - Vest\\images\\test\\000783.jpg: 640x640 1 helmet, 5 heads, 8.1ms\n",
      "Speed: 2.1ms preprocess, 8.1ms inference, 1.7ms postprocess per image at shape (1, 3, 640, 640)\n"
     ]
    },
    {
     "name": "stderr",
     "output_type": "stream",
     "text": [
      "2025-05-24 22:37:22,748 - WARNING - Label-prediction mismatch in 000783.jpg: 5 ground truth vs 6 predicted\n"
     ]
    },
    {
     "name": "stdout",
     "output_type": "stream",
     "text": [
      "\n",
      "image 1/1 c:\\WORK STUFF LOL\\NTU file\\NTU file\\NTU courses\\3rd year\\Deep learning\\Individual Project2\\Hard Hat - Vest\\images\\test\\000800.jpg: 640x640 1 helmet, 9 heads, 6.0ms\n",
      "Speed: 2.4ms preprocess, 6.0ms inference, 1.4ms postprocess per image at shape (1, 3, 640, 640)\n"
     ]
    },
    {
     "name": "stderr",
     "output_type": "stream",
     "text": [
      "2025-05-24 22:37:22,769 - WARNING - Label-prediction mismatch in 000800.jpg: 8 ground truth vs 10 predicted\n"
     ]
    },
    {
     "name": "stdout",
     "output_type": "stream",
     "text": [
      "\n",
      "image 1/1 c:\\WORK STUFF LOL\\NTU file\\NTU file\\NTU courses\\3rd year\\Deep learning\\Individual Project2\\Hard Hat - Vest\\images\\test\\000816.jpg: 640x640 9 helmets, 9.4ms\n",
      "Speed: 2.4ms preprocess, 9.4ms inference, 2.2ms postprocess per image at shape (1, 3, 640, 640)\n"
     ]
    },
    {
     "name": "stderr",
     "output_type": "stream",
     "text": [
      "2025-05-24 22:37:22,796 - WARNING - Label-prediction mismatch in 000816.jpg: 10 ground truth vs 9 predicted\n"
     ]
    },
    {
     "name": "stdout",
     "output_type": "stream",
     "text": [
      "\n",
      "image 1/1 c:\\WORK STUFF LOL\\NTU file\\NTU file\\NTU courses\\3rd year\\Deep learning\\Individual Project2\\Hard Hat - Vest\\images\\test\\000822.jpg: 640x640 1 helmet, 6.1ms\n",
      "Speed: 2.2ms preprocess, 6.1ms inference, 1.6ms postprocess per image at shape (1, 3, 640, 640)\n",
      "\n",
      "image 1/1 c:\\WORK STUFF LOL\\NTU file\\NTU file\\NTU courses\\3rd year\\Deep learning\\Individual Project2\\Hard Hat - Vest\\images\\test\\000839.jpg: 640x640 1 helmet, 1 vest, 9.5ms\n",
      "Speed: 2.4ms preprocess, 9.5ms inference, 2.0ms postprocess per image at shape (1, 3, 640, 640)\n"
     ]
    },
    {
     "name": "stderr",
     "output_type": "stream",
     "text": [
      "2025-05-24 22:37:22,844 - WARNING - Label-prediction mismatch in 000839.jpg: 1 ground truth vs 2 predicted\n"
     ]
    },
    {
     "name": "stdout",
     "output_type": "stream",
     "text": [
      "\n",
      "image 1/1 c:\\WORK STUFF LOL\\NTU file\\NTU file\\NTU courses\\3rd year\\Deep learning\\Individual Project2\\Hard Hat - Vest\\images\\test\\000848.jpg: 640x640 4 helmets, 5.4ms\n",
      "Speed: 2.1ms preprocess, 5.4ms inference, 1.5ms postprocess per image at shape (1, 3, 640, 640)\n",
      "\n",
      "image 1/1 c:\\WORK STUFF LOL\\NTU file\\NTU file\\NTU courses\\3rd year\\Deep learning\\Individual Project2\\Hard Hat - Vest\\images\\test\\000869.jpg: 640x640 1 helmet, 8 heads, 5.4ms\n",
      "Speed: 2.2ms preprocess, 5.4ms inference, 1.9ms postprocess per image at shape (1, 3, 640, 640)\n"
     ]
    },
    {
     "name": "stderr",
     "output_type": "stream",
     "text": [
      "2025-05-24 22:37:22,885 - WARNING - Label-prediction mismatch in 000869.jpg: 11 ground truth vs 9 predicted\n"
     ]
    },
    {
     "name": "stdout",
     "output_type": "stream",
     "text": [
      "\n",
      "image 1/1 c:\\WORK STUFF LOL\\NTU file\\NTU file\\NTU courses\\3rd year\\Deep learning\\Individual Project2\\Hard Hat - Vest\\images\\test\\000871.jpg: 640x640 5 helmets, 7.6ms\n",
      "Speed: 2.7ms preprocess, 7.6ms inference, 2.6ms postprocess per image at shape (1, 3, 640, 640)\n",
      "\n",
      "image 1/1 c:\\WORK STUFF LOL\\NTU file\\NTU file\\NTU courses\\3rd year\\Deep learning\\Individual Project2\\Hard Hat - Vest\\images\\test\\000872.jpg: 640x640 1 helmet, 9.7ms\n",
      "Speed: 3.0ms preprocess, 9.7ms inference, 1.3ms postprocess per image at shape (1, 3, 640, 640)\n",
      "\n",
      "image 1/1 c:\\WORK STUFF LOL\\NTU file\\NTU file\\NTU courses\\3rd year\\Deep learning\\Individual Project2\\Hard Hat - Vest\\images\\test\\000874.jpg: 640x640 7 heads, 9.6ms\n",
      "Speed: 2.9ms preprocess, 9.6ms inference, 1.5ms postprocess per image at shape (1, 3, 640, 640)\n",
      "\n",
      "image 1/1 c:\\WORK STUFF LOL\\NTU file\\NTU file\\NTU courses\\3rd year\\Deep learning\\Individual Project2\\Hard Hat - Vest\\images\\test\\000875.jpg: 640x640 9 helmets, 14.0ms\n",
      "Speed: 2.8ms preprocess, 14.0ms inference, 1.8ms postprocess per image at shape (1, 3, 640, 640)\n"
     ]
    },
    {
     "name": "stderr",
     "output_type": "stream",
     "text": [
      "2025-05-24 22:37:22,997 - WARNING - Label-prediction mismatch in 000875.jpg: 10 ground truth vs 9 predicted\n"
     ]
    },
    {
     "name": "stdout",
     "output_type": "stream",
     "text": [
      "\n",
      "image 1/1 c:\\WORK STUFF LOL\\NTU file\\NTU file\\NTU courses\\3rd year\\Deep learning\\Individual Project2\\Hard Hat - Vest\\images\\test\\000887.jpg: 640x640 5 helmets, 13 heads, 9.0ms\n",
      "Speed: 2.2ms preprocess, 9.0ms inference, 2.1ms postprocess per image at shape (1, 3, 640, 640)\n"
     ]
    },
    {
     "name": "stderr",
     "output_type": "stream",
     "text": [
      "2025-05-24 22:37:23,024 - WARNING - Label-prediction mismatch in 000887.jpg: 13 ground truth vs 18 predicted\n"
     ]
    },
    {
     "name": "stdout",
     "output_type": "stream",
     "text": [
      "\n",
      "image 1/1 c:\\WORK STUFF LOL\\NTU file\\NTU file\\NTU courses\\3rd year\\Deep learning\\Individual Project2\\Hard Hat - Vest\\images\\test\\000925.jpg: 640x640 2 helmets, 6.8ms\n",
      "Speed: 2.3ms preprocess, 6.8ms inference, 1.5ms postprocess per image at shape (1, 3, 640, 640)\n"
     ]
    },
    {
     "name": "stderr",
     "output_type": "stream",
     "text": [
      "2025-05-24 22:37:23,050 - WARNING - Label-prediction mismatch in 000925.jpg: 3 ground truth vs 2 predicted\n"
     ]
    },
    {
     "name": "stdout",
     "output_type": "stream",
     "text": [
      "\n",
      "image 1/1 c:\\WORK STUFF LOL\\NTU file\\NTU file\\NTU courses\\3rd year\\Deep learning\\Individual Project2\\Hard Hat - Vest\\images\\test\\000928.jpg: 640x640 1 helmet, 6.2ms\n",
      "Speed: 2.2ms preprocess, 6.2ms inference, 1.4ms postprocess per image at shape (1, 3, 640, 640)\n"
     ]
    },
    {
     "name": "stderr",
     "output_type": "stream",
     "text": [
      "2025-05-24 22:37:23,072 - WARNING - Label-prediction mismatch in 000928.jpg: 4 ground truth vs 1 predicted\n"
     ]
    },
    {
     "name": "stdout",
     "output_type": "stream",
     "text": [
      "\n",
      "image 1/1 c:\\WORK STUFF LOL\\NTU file\\NTU file\\NTU courses\\3rd year\\Deep learning\\Individual Project2\\Hard Hat - Vest\\images\\test\\000949.jpg: 640x640 16 helmets, 1 vest, 7.7ms\n",
      "Speed: 2.1ms preprocess, 7.7ms inference, 1.8ms postprocess per image at shape (1, 3, 640, 640)\n"
     ]
    },
    {
     "name": "stderr",
     "output_type": "stream",
     "text": [
      "2025-05-24 22:37:23,096 - WARNING - Label-prediction mismatch in 000949.jpg: 16 ground truth vs 17 predicted\n"
     ]
    },
    {
     "name": "stdout",
     "output_type": "stream",
     "text": [
      "\n",
      "image 1/1 c:\\WORK STUFF LOL\\NTU file\\NTU file\\NTU courses\\3rd year\\Deep learning\\Individual Project2\\Hard Hat - Vest\\images\\test\\000963.jpg: 640x640 2 helmets, 7.1ms\n",
      "Speed: 2.7ms preprocess, 7.1ms inference, 1.5ms postprocess per image at shape (1, 3, 640, 640)\n",
      "\n",
      "image 1/1 c:\\WORK STUFF LOL\\NTU file\\NTU file\\NTU courses\\3rd year\\Deep learning\\Individual Project2\\Hard Hat - Vest\\images\\test\\000967.jpg: 640x640 2 helmets, 5.4ms\n",
      "Speed: 2.1ms preprocess, 5.4ms inference, 1.7ms postprocess per image at shape (1, 3, 640, 640)\n",
      "\n",
      "image 1/1 c:\\WORK STUFF LOL\\NTU file\\NTU file\\NTU courses\\3rd year\\Deep learning\\Individual Project2\\Hard Hat - Vest\\images\\test\\000978.jpg: 640x640 8 helmets, 7.5ms\n",
      "Speed: 2.2ms preprocess, 7.5ms inference, 1.5ms postprocess per image at shape (1, 3, 640, 640)\n"
     ]
    },
    {
     "name": "stderr",
     "output_type": "stream",
     "text": [
      "2025-05-24 22:37:23,165 - WARNING - Label-prediction mismatch in 000978.jpg: 6 ground truth vs 8 predicted\n"
     ]
    },
    {
     "name": "stdout",
     "output_type": "stream",
     "text": [
      "\n",
      "image 1/1 c:\\WORK STUFF LOL\\NTU file\\NTU file\\NTU courses\\3rd year\\Deep learning\\Individual Project2\\Hard Hat - Vest\\images\\test\\000988.jpg: 640x640 1 helmet, 6.2ms\n",
      "Speed: 2.1ms preprocess, 6.2ms inference, 1.4ms postprocess per image at shape (1, 3, 640, 640)\n",
      "\n",
      "image 1/1 c:\\WORK STUFF LOL\\NTU file\\NTU file\\NTU courses\\3rd year\\Deep learning\\Individual Project2\\Hard Hat - Vest\\images\\test\\000993.jpg: 640x640 5 helmets, 2 vests, 5.5ms\n",
      "Speed: 2.0ms preprocess, 5.5ms inference, 4.0ms postprocess per image at shape (1, 3, 640, 640)\n"
     ]
    },
    {
     "name": "stderr",
     "output_type": "stream",
     "text": [
      "2025-05-24 22:37:23,208 - WARNING - Label-prediction mismatch in 000993.jpg: 9 ground truth vs 7 predicted\n"
     ]
    },
    {
     "name": "stdout",
     "output_type": "stream",
     "text": [
      "\n",
      "image 1/1 c:\\WORK STUFF LOL\\NTU file\\NTU file\\NTU courses\\3rd year\\Deep learning\\Individual Project2\\Hard Hat - Vest\\images\\test\\001012.jpg: 640x640 2 helmets, 1 vest, 6.2ms\n",
      "Speed: 3.3ms preprocess, 6.2ms inference, 1.4ms postprocess per image at shape (1, 3, 640, 640)\n"
     ]
    },
    {
     "name": "stderr",
     "output_type": "stream",
     "text": [
      "2025-05-24 22:37:23,231 - WARNING - Label-prediction mismatch in 001012.jpg: 2 ground truth vs 3 predicted\n"
     ]
    },
    {
     "name": "stdout",
     "output_type": "stream",
     "text": [
      "\n",
      "image 1/1 c:\\WORK STUFF LOL\\NTU file\\NTU file\\NTU courses\\3rd year\\Deep learning\\Individual Project2\\Hard Hat - Vest\\images\\test\\001015.jpg: 640x640 2 helmets, 7.2ms\n",
      "Speed: 2.4ms preprocess, 7.2ms inference, 1.5ms postprocess per image at shape (1, 3, 640, 640)\n"
     ]
    },
    {
     "name": "stderr",
     "output_type": "stream",
     "text": [
      "2025-05-24 22:37:23,256 - WARNING - Label-prediction mismatch in 001015.jpg: 1 ground truth vs 2 predicted\n"
     ]
    },
    {
     "name": "stdout",
     "output_type": "stream",
     "text": [
      "\n",
      "image 1/1 c:\\WORK STUFF LOL\\NTU file\\NTU file\\NTU courses\\3rd year\\Deep learning\\Individual Project2\\Hard Hat - Vest\\images\\test\\001041.jpg: 640x640 3 helmets, 9.7ms\n",
      "Speed: 2.7ms preprocess, 9.7ms inference, 2.3ms postprocess per image at shape (1, 3, 640, 640)\n",
      "\n",
      "image 1/1 c:\\WORK STUFF LOL\\NTU file\\NTU file\\NTU courses\\3rd year\\Deep learning\\Individual Project2\\Hard Hat - Vest\\images\\test\\001049.jpg: 640x640 2 helmets, 9.9ms\n",
      "Speed: 3.3ms preprocess, 9.9ms inference, 1.5ms postprocess per image at shape (1, 3, 640, 640)\n",
      "\n",
      "image 1/1 c:\\WORK STUFF LOL\\NTU file\\NTU file\\NTU courses\\3rd year\\Deep learning\\Individual Project2\\Hard Hat - Vest\\images\\test\\001057.jpg: 640x640 1 helmet, 1 vest, 6.3ms\n",
      "Speed: 2.0ms preprocess, 6.3ms inference, 1.4ms postprocess per image at shape (1, 3, 640, 640)\n",
      "\n",
      "image 1/1 c:\\WORK STUFF LOL\\NTU file\\NTU file\\NTU courses\\3rd year\\Deep learning\\Individual Project2\\Hard Hat - Vest\\images\\test\\001078.jpg: 640x640 2 helmets, 1 vest, 6.0ms\n",
      "Speed: 2.4ms preprocess, 6.0ms inference, 1.4ms postprocess per image at shape (1, 3, 640, 640)\n"
     ]
    },
    {
     "name": "stderr",
     "output_type": "stream",
     "text": [
      "2025-05-24 22:37:23,353 - WARNING - Label-prediction mismatch in 001078.jpg: 5 ground truth vs 3 predicted\n"
     ]
    },
    {
     "name": "stdout",
     "output_type": "stream",
     "text": [
      "\n",
      "image 1/1 c:\\WORK STUFF LOL\\NTU file\\NTU file\\NTU courses\\3rd year\\Deep learning\\Individual Project2\\Hard Hat - Vest\\images\\test\\001079.jpg: 640x640 12 helmets, 10.8ms\n",
      "Speed: 3.3ms preprocess, 10.8ms inference, 2.3ms postprocess per image at shape (1, 3, 640, 640)\n"
     ]
    },
    {
     "name": "stderr",
     "output_type": "stream",
     "text": [
      "2025-05-24 22:37:23,383 - WARNING - Label-prediction mismatch in 001079.jpg: 11 ground truth vs 12 predicted\n"
     ]
    },
    {
     "name": "stdout",
     "output_type": "stream",
     "text": [
      "\n",
      "image 1/1 c:\\WORK STUFF LOL\\NTU file\\NTU file\\NTU courses\\3rd year\\Deep learning\\Individual Project2\\Hard Hat - Vest\\images\\test\\001084.jpg: 640x640 3 helmets, 4 vests, 5.5ms\n",
      "Speed: 2.3ms preprocess, 5.5ms inference, 1.4ms postprocess per image at shape (1, 3, 640, 640)\n"
     ]
    },
    {
     "name": "stderr",
     "output_type": "stream",
     "text": [
      "2025-05-24 22:37:23,407 - WARNING - Label-prediction mismatch in 001084.jpg: 8 ground truth vs 7 predicted\n"
     ]
    },
    {
     "name": "stdout",
     "output_type": "stream",
     "text": [
      "\n",
      "image 1/1 c:\\WORK STUFF LOL\\NTU file\\NTU file\\NTU courses\\3rd year\\Deep learning\\Individual Project2\\Hard Hat - Vest\\images\\test\\001088.jpg: 640x640 4 helmets, 4 heads, 6.0ms\n",
      "Speed: 2.2ms preprocess, 6.0ms inference, 1.5ms postprocess per image at shape (1, 3, 640, 640)\n",
      "\n",
      "image 1/1 c:\\WORK STUFF LOL\\NTU file\\NTU file\\NTU courses\\3rd year\\Deep learning\\Individual Project2\\Hard Hat - Vest\\images\\test\\001099.jpg: 640x640 4 helmets, 5.5ms\n",
      "Speed: 2.1ms preprocess, 5.5ms inference, 1.5ms postprocess per image at shape (1, 3, 640, 640)\n",
      "\n",
      "image 1/1 c:\\WORK STUFF LOL\\NTU file\\NTU file\\NTU courses\\3rd year\\Deep learning\\Individual Project2\\Hard Hat - Vest\\images\\test\\001110.jpg: 640x640 5 helmets, 7.4ms\n",
      "Speed: 2.0ms preprocess, 7.4ms inference, 1.9ms postprocess per image at shape (1, 3, 640, 640)\n",
      "\n",
      "image 1/1 c:\\WORK STUFF LOL\\NTU file\\NTU file\\NTU courses\\3rd year\\Deep learning\\Individual Project2\\Hard Hat - Vest\\images\\test\\001117.jpg: 640x640 14 heads, 5.2ms\n",
      "Speed: 2.0ms preprocess, 5.2ms inference, 1.8ms postprocess per image at shape (1, 3, 640, 640)\n",
      "\n",
      "image 1/1 c:\\WORK STUFF LOL\\NTU file\\NTU file\\NTU courses\\3rd year\\Deep learning\\Individual Project2\\Hard Hat - Vest\\images\\test\\001118.jpg: 640x640 1 helmet, 5.3ms\n",
      "Speed: 2.2ms preprocess, 5.3ms inference, 1.4ms postprocess per image at shape (1, 3, 640, 640)\n"
     ]
    },
    {
     "name": "stderr",
     "output_type": "stream",
     "text": [
      "2025-05-24 22:37:23,510 - WARNING - Label-prediction mismatch in 001118.jpg: 2 ground truth vs 1 predicted\n"
     ]
    },
    {
     "name": "stdout",
     "output_type": "stream",
     "text": [
      "\n",
      "image 1/1 c:\\WORK STUFF LOL\\NTU file\\NTU file\\NTU courses\\3rd year\\Deep learning\\Individual Project2\\Hard Hat - Vest\\images\\test\\001126.jpg: 640x640 3 helmets, 5.1ms\n",
      "Speed: 2.0ms preprocess, 5.1ms inference, 1.5ms postprocess per image at shape (1, 3, 640, 640)\n"
     ]
    },
    {
     "name": "stderr",
     "output_type": "stream",
     "text": [
      "2025-05-24 22:37:23,529 - WARNING - Label-prediction mismatch in 001126.jpg: 1 ground truth vs 3 predicted\n"
     ]
    },
    {
     "name": "stdout",
     "output_type": "stream",
     "text": [
      "\n",
      "image 1/1 c:\\WORK STUFF LOL\\NTU file\\NTU file\\NTU courses\\3rd year\\Deep learning\\Individual Project2\\Hard Hat - Vest\\images\\test\\001129.jpg: 640x640 6 helmets, 9.8ms\n",
      "Speed: 2.5ms preprocess, 9.8ms inference, 1.7ms postprocess per image at shape (1, 3, 640, 640)\n"
     ]
    },
    {
     "name": "stderr",
     "output_type": "stream",
     "text": [
      "2025-05-24 22:37:23,554 - WARNING - Label-prediction mismatch in 001129.jpg: 4 ground truth vs 6 predicted\n"
     ]
    },
    {
     "name": "stdout",
     "output_type": "stream",
     "text": [
      "\n",
      "image 1/1 c:\\WORK STUFF LOL\\NTU file\\NTU file\\NTU courses\\3rd year\\Deep learning\\Individual Project2\\Hard Hat - Vest\\images\\test\\001137.jpg: 640x640 2 helmets, 5.2ms\n",
      "Speed: 2.1ms preprocess, 5.2ms inference, 1.5ms postprocess per image at shape (1, 3, 640, 640)\n",
      "\n",
      "image 1/1 c:\\WORK STUFF LOL\\NTU file\\NTU file\\NTU courses\\3rd year\\Deep learning\\Individual Project2\\Hard Hat - Vest\\images\\test\\001140.jpg: 640x640 2 helmets, 1 vest, 8.0ms\n",
      "Speed: 2.2ms preprocess, 8.0ms inference, 3.0ms postprocess per image at shape (1, 3, 640, 640)\n"
     ]
    },
    {
     "name": "stderr",
     "output_type": "stream",
     "text": [
      "2025-05-24 22:37:23,599 - WARNING - Label-prediction mismatch in 001140.jpg: 2 ground truth vs 3 predicted\n"
     ]
    },
    {
     "name": "stdout",
     "output_type": "stream",
     "text": [
      "\n",
      "image 1/1 c:\\WORK STUFF LOL\\NTU file\\NTU file\\NTU courses\\3rd year\\Deep learning\\Individual Project2\\Hard Hat - Vest\\images\\test\\001148.jpg: 640x640 3 helmets, 5.3ms\n",
      "Speed: 2.1ms preprocess, 5.3ms inference, 1.4ms postprocess per image at shape (1, 3, 640, 640)\n"
     ]
    },
    {
     "name": "stderr",
     "output_type": "stream",
     "text": [
      "2025-05-24 22:37:23,619 - WARNING - Label-prediction mismatch in 001148.jpg: 1 ground truth vs 3 predicted\n"
     ]
    },
    {
     "name": "stdout",
     "output_type": "stream",
     "text": [
      "\n",
      "image 1/1 c:\\WORK STUFF LOL\\NTU file\\NTU file\\NTU courses\\3rd year\\Deep learning\\Individual Project2\\Hard Hat - Vest\\images\\test\\001153.jpg: 640x640 3 helmets, 6.7ms\n",
      "Speed: 2.2ms preprocess, 6.7ms inference, 2.8ms postprocess per image at shape (1, 3, 640, 640)\n"
     ]
    },
    {
     "name": "stderr",
     "output_type": "stream",
     "text": [
      "2025-05-24 22:37:23,641 - WARNING - Label-prediction mismatch in 001153.jpg: 4 ground truth vs 3 predicted\n"
     ]
    },
    {
     "name": "stdout",
     "output_type": "stream",
     "text": [
      "\n",
      "image 1/1 c:\\WORK STUFF LOL\\NTU file\\NTU file\\NTU courses\\3rd year\\Deep learning\\Individual Project2\\Hard Hat - Vest\\images\\test\\001163.jpg: 640x640 4 helmets, 5.6ms\n",
      "Speed: 2.2ms preprocess, 5.6ms inference, 1.4ms postprocess per image at shape (1, 3, 640, 640)\n"
     ]
    },
    {
     "name": "stderr",
     "output_type": "stream",
     "text": [
      "2025-05-24 22:37:23,662 - WARNING - Label-prediction mismatch in 001163.jpg: 1 ground truth vs 4 predicted\n"
     ]
    },
    {
     "name": "stdout",
     "output_type": "stream",
     "text": [
      "\n",
      "image 1/1 c:\\WORK STUFF LOL\\NTU file\\NTU file\\NTU courses\\3rd year\\Deep learning\\Individual Project2\\Hard Hat - Vest\\images\\test\\001168.jpg: 640x640 3 helmets, 5.2ms\n",
      "Speed: 2.1ms preprocess, 5.2ms inference, 1.4ms postprocess per image at shape (1, 3, 640, 640)\n"
     ]
    },
    {
     "name": "stderr",
     "output_type": "stream",
     "text": [
      "2025-05-24 22:37:23,683 - WARNING - Label-prediction mismatch in 001168.jpg: 1 ground truth vs 3 predicted\n"
     ]
    },
    {
     "name": "stdout",
     "output_type": "stream",
     "text": [
      "\n",
      "image 1/1 c:\\WORK STUFF LOL\\NTU file\\NTU file\\NTU courses\\3rd year\\Deep learning\\Individual Project2\\Hard Hat - Vest\\images\\test\\001169.jpg: 640x640 7 helmets, 6.5ms\n",
      "Speed: 2.2ms preprocess, 6.5ms inference, 1.6ms postprocess per image at shape (1, 3, 640, 640)\n",
      "\n",
      "image 1/1 c:\\WORK STUFF LOL\\NTU file\\NTU file\\NTU courses\\3rd year\\Deep learning\\Individual Project2\\Hard Hat - Vest\\images\\test\\001186.jpg: 640x640 4 helmets, 6.6ms\n",
      "Speed: 2.1ms preprocess, 6.6ms inference, 1.6ms postprocess per image at shape (1, 3, 640, 640)\n"
     ]
    },
    {
     "name": "stderr",
     "output_type": "stream",
     "text": [
      "2025-05-24 22:37:23,727 - WARNING - Label-prediction mismatch in 001186.jpg: 3 ground truth vs 4 predicted\n"
     ]
    },
    {
     "name": "stdout",
     "output_type": "stream",
     "text": [
      "\n",
      "image 1/1 c:\\WORK STUFF LOL\\NTU file\\NTU file\\NTU courses\\3rd year\\Deep learning\\Individual Project2\\Hard Hat - Vest\\images\\test\\001194.jpg: 640x640 1 helmet, 8.2ms\n",
      "Speed: 2.1ms preprocess, 8.2ms inference, 1.8ms postprocess per image at shape (1, 3, 640, 640)\n",
      "\n",
      "image 1/1 c:\\WORK STUFF LOL\\NTU file\\NTU file\\NTU courses\\3rd year\\Deep learning\\Individual Project2\\Hard Hat - Vest\\images\\test\\001197.jpg: 640x640 1 helmet, 9.8ms\n",
      "Speed: 2.5ms preprocess, 9.8ms inference, 1.7ms postprocess per image at shape (1, 3, 640, 640)\n",
      "\n",
      "image 1/1 c:\\WORK STUFF LOL\\NTU file\\NTU file\\NTU courses\\3rd year\\Deep learning\\Individual Project2\\Hard Hat - Vest\\images\\test\\001200.jpg: 640x640 5 helmets, 2 vests, 7.3ms\n",
      "Speed: 2.1ms preprocess, 7.3ms inference, 1.4ms postprocess per image at shape (1, 3, 640, 640)\n"
     ]
    },
    {
     "name": "stderr",
     "output_type": "stream",
     "text": [
      "2025-05-24 22:37:23,798 - WARNING - Label-prediction mismatch in 001200.jpg: 6 ground truth vs 7 predicted\n"
     ]
    },
    {
     "name": "stdout",
     "output_type": "stream",
     "text": [
      "\n",
      "image 1/1 c:\\WORK STUFF LOL\\NTU file\\NTU file\\NTU courses\\3rd year\\Deep learning\\Individual Project2\\Hard Hat - Vest\\images\\test\\001234.jpg: 640x640 1 helmet, 1 vest, 10.3ms\n",
      "Speed: 2.8ms preprocess, 10.3ms inference, 1.7ms postprocess per image at shape (1, 3, 640, 640)\n",
      "\n",
      "image 1/1 c:\\WORK STUFF LOL\\NTU file\\NTU file\\NTU courses\\3rd year\\Deep learning\\Individual Project2\\Hard Hat - Vest\\images\\test\\001280.jpg: 640x640 2 helmets, 2 vests, 5.5ms\n",
      "Speed: 2.3ms preprocess, 5.5ms inference, 1.5ms postprocess per image at shape (1, 3, 640, 640)\n",
      "\n",
      "image 1/1 c:\\WORK STUFF LOL\\NTU file\\NTU file\\NTU courses\\3rd year\\Deep learning\\Individual Project2\\Hard Hat - Vest\\images\\test\\001283.jpg: 640x640 1 helmet, 9.7ms\n",
      "Speed: 3.0ms preprocess, 9.7ms inference, 1.6ms postprocess per image at shape (1, 3, 640, 640)\n"
     ]
    },
    {
     "name": "stderr",
     "output_type": "stream",
     "text": [
      "2025-05-24 22:37:23,870 - WARNING - Label-prediction mismatch in 001283.jpg: 2 ground truth vs 1 predicted\n"
     ]
    },
    {
     "name": "stdout",
     "output_type": "stream",
     "text": [
      "\n",
      "image 1/1 c:\\WORK STUFF LOL\\NTU file\\NTU file\\NTU courses\\3rd year\\Deep learning\\Individual Project2\\Hard Hat - Vest\\images\\test\\001319.jpg: 640x640 2 helmets, 7.5ms\n",
      "Speed: 2.2ms preprocess, 7.5ms inference, 2.9ms postprocess per image at shape (1, 3, 640, 640)\n",
      "\n",
      "image 1/1 c:\\WORK STUFF LOL\\NTU file\\NTU file\\NTU courses\\3rd year\\Deep learning\\Individual Project2\\Hard Hat - Vest\\images\\test\\001334.jpg: 640x640 1 helmet, 5.2ms\n",
      "Speed: 2.1ms preprocess, 5.2ms inference, 1.4ms postprocess per image at shape (1, 3, 640, 640)\n",
      "\n",
      "image 1/1 c:\\WORK STUFF LOL\\NTU file\\NTU file\\NTU courses\\3rd year\\Deep learning\\Individual Project2\\Hard Hat - Vest\\images\\test\\001338.jpg: 640x640 1 helmet, 1 vest, 16.6ms\n",
      "Speed: 2.3ms preprocess, 16.6ms inference, 3.5ms postprocess per image at shape (1, 3, 640, 640)\n"
     ]
    },
    {
     "name": "stderr",
     "output_type": "stream",
     "text": [
      "2025-05-24 22:37:23,947 - WARNING - Label-prediction mismatch in 001338.jpg: 7 ground truth vs 2 predicted\n"
     ]
    },
    {
     "name": "stdout",
     "output_type": "stream",
     "text": [
      "\n",
      "image 1/1 c:\\WORK STUFF LOL\\NTU file\\NTU file\\NTU courses\\3rd year\\Deep learning\\Individual Project2\\Hard Hat - Vest\\images\\test\\001348.jpg: 640x640 2 helmets, 9.1ms\n",
      "Speed: 2.7ms preprocess, 9.1ms inference, 1.5ms postprocess per image at shape (1, 3, 640, 640)\n"
     ]
    },
    {
     "name": "stderr",
     "output_type": "stream",
     "text": [
      "2025-05-24 22:37:23,972 - WARNING - Label-prediction mismatch in 001348.jpg: 1 ground truth vs 2 predicted\n"
     ]
    },
    {
     "name": "stdout",
     "output_type": "stream",
     "text": [
      "\n",
      "image 1/1 c:\\WORK STUFF LOL\\NTU file\\NTU file\\NTU courses\\3rd year\\Deep learning\\Individual Project2\\Hard Hat - Vest\\images\\test\\001384.jpg: 640x640 1 helmet, 5.6ms\n",
      "Speed: 2.2ms preprocess, 5.6ms inference, 2.0ms postprocess per image at shape (1, 3, 640, 640)\n",
      "\n",
      "image 1/1 c:\\WORK STUFF LOL\\NTU file\\NTU file\\NTU courses\\3rd year\\Deep learning\\Individual Project2\\Hard Hat - Vest\\images\\test\\001393.jpg: 640x640 6 helmets, 1 vest, 5.6ms\n",
      "Speed: 2.0ms preprocess, 5.6ms inference, 1.5ms postprocess per image at shape (1, 3, 640, 640)\n"
     ]
    },
    {
     "name": "stderr",
     "output_type": "stream",
     "text": [
      "2025-05-24 22:37:24,013 - WARNING - Label-prediction mismatch in 001393.jpg: 10 ground truth vs 7 predicted\n"
     ]
    },
    {
     "name": "stdout",
     "output_type": "stream",
     "text": [
      "\n",
      "image 1/1 c:\\WORK STUFF LOL\\NTU file\\NTU file\\NTU courses\\3rd year\\Deep learning\\Individual Project2\\Hard Hat - Vest\\images\\test\\001418.jpg: 640x640 2 helmets, 5.6ms\n",
      "Speed: 2.1ms preprocess, 5.6ms inference, 1.3ms postprocess per image at shape (1, 3, 640, 640)\n"
     ]
    },
    {
     "name": "stderr",
     "output_type": "stream",
     "text": [
      "2025-05-24 22:37:24,032 - WARNING - Label-prediction mismatch in 001418.jpg: 4 ground truth vs 2 predicted\n"
     ]
    },
    {
     "name": "stdout",
     "output_type": "stream",
     "text": [
      "\n",
      "image 1/1 c:\\WORK STUFF LOL\\NTU file\\NTU file\\NTU courses\\3rd year\\Deep learning\\Individual Project2\\Hard Hat - Vest\\images\\test\\001458.jpg: 640x640 1 helmet, 6.1ms\n",
      "Speed: 2.2ms preprocess, 6.1ms inference, 1.4ms postprocess per image at shape (1, 3, 640, 640)\n",
      "\n",
      "image 1/1 c:\\WORK STUFF LOL\\NTU file\\NTU file\\NTU courses\\3rd year\\Deep learning\\Individual Project2\\Hard Hat - Vest\\images\\test\\001472.jpg: 640x640 4 helmets, 8.8ms\n",
      "Speed: 2.5ms preprocess, 8.8ms inference, 1.8ms postprocess per image at shape (1, 3, 640, 640)\n"
     ]
    },
    {
     "name": "stderr",
     "output_type": "stream",
     "text": [
      "2025-05-24 22:37:24,077 - WARNING - Label-prediction mismatch in 001472.jpg: 2 ground truth vs 4 predicted\n"
     ]
    },
    {
     "name": "stdout",
     "output_type": "stream",
     "text": [
      "\n",
      "image 1/1 c:\\WORK STUFF LOL\\NTU file\\NTU file\\NTU courses\\3rd year\\Deep learning\\Individual Project2\\Hard Hat - Vest\\images\\test\\001476.jpg: 640x640 1 helmet, 5.2ms\n",
      "Speed: 2.1ms preprocess, 5.2ms inference, 1.4ms postprocess per image at shape (1, 3, 640, 640)\n",
      "\n",
      "image 1/1 c:\\WORK STUFF LOL\\NTU file\\NTU file\\NTU courses\\3rd year\\Deep learning\\Individual Project2\\Hard Hat - Vest\\images\\test\\001478.jpg: 640x640 12 heads, 11.7ms\n",
      "Speed: 2.2ms preprocess, 11.7ms inference, 2.9ms postprocess per image at shape (1, 3, 640, 640)\n"
     ]
    },
    {
     "name": "stderr",
     "output_type": "stream",
     "text": [
      "2025-05-24 22:37:24,125 - WARNING - Label-prediction mismatch in 001478.jpg: 15 ground truth vs 12 predicted\n"
     ]
    },
    {
     "name": "stdout",
     "output_type": "stream",
     "text": [
      "\n",
      "image 1/1 c:\\WORK STUFF LOL\\NTU file\\NTU file\\NTU courses\\3rd year\\Deep learning\\Individual Project2\\Hard Hat - Vest\\images\\test\\001485.jpg: 640x640 1 helmet, 5.5ms\n",
      "Speed: 2.0ms preprocess, 5.5ms inference, 1.3ms postprocess per image at shape (1, 3, 640, 640)\n",
      "\n",
      "image 1/1 c:\\WORK STUFF LOL\\NTU file\\NTU file\\NTU courses\\3rd year\\Deep learning\\Individual Project2\\Hard Hat - Vest\\images\\test\\001504.jpg: 640x640 6 helmets, 5 vests, 6.7ms\n",
      "Speed: 2.1ms preprocess, 6.7ms inference, 2.8ms postprocess per image at shape (1, 3, 640, 640)\n"
     ]
    },
    {
     "name": "stderr",
     "output_type": "stream",
     "text": [
      "2025-05-24 22:37:24,168 - WARNING - Label-prediction mismatch in 001504.jpg: 10 ground truth vs 11 predicted\n"
     ]
    },
    {
     "name": "stdout",
     "output_type": "stream",
     "text": [
      "\n",
      "image 1/1 c:\\WORK STUFF LOL\\NTU file\\NTU file\\NTU courses\\3rd year\\Deep learning\\Individual Project2\\Hard Hat - Vest\\images\\test\\001515.jpg: 640x640 5 helmets, 10.7ms\n",
      "Speed: 2.5ms preprocess, 10.7ms inference, 2.0ms postprocess per image at shape (1, 3, 640, 640)\n",
      "\n",
      "image 1/1 c:\\WORK STUFF LOL\\NTU file\\NTU file\\NTU courses\\3rd year\\Deep learning\\Individual Project2\\Hard Hat - Vest\\images\\test\\001523.jpg: 640x640 3 helmets, 8.6ms\n",
      "Speed: 2.4ms preprocess, 8.6ms inference, 1.5ms postprocess per image at shape (1, 3, 640, 640)\n"
     ]
    },
    {
     "name": "stderr",
     "output_type": "stream",
     "text": [
      "2025-05-24 22:37:24,220 - WARNING - Label-prediction mismatch in 001523.jpg: 2 ground truth vs 3 predicted\n"
     ]
    },
    {
     "name": "stdout",
     "output_type": "stream",
     "text": [
      "\n",
      "image 1/1 c:\\WORK STUFF LOL\\NTU file\\NTU file\\NTU courses\\3rd year\\Deep learning\\Individual Project2\\Hard Hat - Vest\\images\\test\\001536.jpg: 640x640 3 helmets, 6.1ms\n",
      "Speed: 2.3ms preprocess, 6.1ms inference, 1.8ms postprocess per image at shape (1, 3, 640, 640)\n"
     ]
    },
    {
     "name": "stderr",
     "output_type": "stream",
     "text": [
      "2025-05-24 22:37:24,242 - WARNING - Label-prediction mismatch in 001536.jpg: 2 ground truth vs 3 predicted\n"
     ]
    },
    {
     "name": "stdout",
     "output_type": "stream",
     "text": [
      "\n",
      "image 1/1 c:\\WORK STUFF LOL\\NTU file\\NTU file\\NTU courses\\3rd year\\Deep learning\\Individual Project2\\Hard Hat - Vest\\images\\test\\001558.jpg: 640x640 7 helmets, 6.9ms\n",
      "Speed: 3.1ms preprocess, 6.9ms inference, 1.6ms postprocess per image at shape (1, 3, 640, 640)\n"
     ]
    },
    {
     "name": "stderr",
     "output_type": "stream",
     "text": [
      "2025-05-24 22:37:24,267 - WARNING - Label-prediction mismatch in 001558.jpg: 12 ground truth vs 7 predicted\n"
     ]
    },
    {
     "name": "stdout",
     "output_type": "stream",
     "text": [
      "\n",
      "image 1/1 c:\\WORK STUFF LOL\\NTU file\\NTU file\\NTU courses\\3rd year\\Deep learning\\Individual Project2\\Hard Hat - Vest\\images\\test\\001560.jpg: 640x640 2 helmets, 9.6ms\n",
      "Speed: 2.1ms preprocess, 9.6ms inference, 3.0ms postprocess per image at shape (1, 3, 640, 640)\n",
      "\n",
      "image 1/1 c:\\WORK STUFF LOL\\NTU file\\NTU file\\NTU courses\\3rd year\\Deep learning\\Individual Project2\\Hard Hat - Vest\\images\\test\\001563.jpg: 640x640 3 helmets, 1 vest, 11.6ms\n",
      "Speed: 2.2ms preprocess, 11.6ms inference, 2.8ms postprocess per image at shape (1, 3, 640, 640)\n"
     ]
    },
    {
     "name": "stderr",
     "output_type": "stream",
     "text": [
      "2025-05-24 22:37:24,326 - WARNING - Label-prediction mismatch in 001563.jpg: 3 ground truth vs 4 predicted\n"
     ]
    },
    {
     "name": "stdout",
     "output_type": "stream",
     "text": [
      "\n",
      "image 1/1 c:\\WORK STUFF LOL\\NTU file\\NTU file\\NTU courses\\3rd year\\Deep learning\\Individual Project2\\Hard Hat - Vest\\images\\test\\001575.jpg: 640x640 7 helmets, 4 heads, 5.2ms\n",
      "Speed: 2.0ms preprocess, 5.2ms inference, 1.3ms postprocess per image at shape (1, 3, 640, 640)\n"
     ]
    },
    {
     "name": "stderr",
     "output_type": "stream",
     "text": [
      "2025-05-24 22:37:24,345 - WARNING - Label-prediction mismatch in 001575.jpg: 4 ground truth vs 11 predicted\n"
     ]
    },
    {
     "name": "stdout",
     "output_type": "stream",
     "text": [
      "\n",
      "image 1/1 c:\\WORK STUFF LOL\\NTU file\\NTU file\\NTU courses\\3rd year\\Deep learning\\Individual Project2\\Hard Hat - Vest\\images\\test\\001579.jpg: 640x640 5 helmets, 10.5ms\n",
      "Speed: 3.1ms preprocess, 10.5ms inference, 2.5ms postprocess per image at shape (1, 3, 640, 640)\n"
     ]
    },
    {
     "name": "stderr",
     "output_type": "stream",
     "text": [
      "2025-05-24 22:37:24,375 - WARNING - Label-prediction mismatch in 001579.jpg: 3 ground truth vs 5 predicted\n"
     ]
    },
    {
     "name": "stdout",
     "output_type": "stream",
     "text": [
      "\n",
      "image 1/1 c:\\WORK STUFF LOL\\NTU file\\NTU file\\NTU courses\\3rd year\\Deep learning\\Individual Project2\\Hard Hat - Vest\\images\\test\\001581.jpg: 640x640 6 helmets, 7.3ms\n",
      "Speed: 2.1ms preprocess, 7.3ms inference, 1.3ms postprocess per image at shape (1, 3, 640, 640)\n",
      "\n",
      "image 1/1 c:\\WORK STUFF LOL\\NTU file\\NTU file\\NTU courses\\3rd year\\Deep learning\\Individual Project2\\Hard Hat - Vest\\images\\test\\001594.jpg: 640x640 3 helmets, 3 heads, 5.7ms\n",
      "Speed: 2.3ms preprocess, 5.7ms inference, 1.8ms postprocess per image at shape (1, 3, 640, 640)\n",
      "\n",
      "image 1/1 c:\\WORK STUFF LOL\\NTU file\\NTU file\\NTU courses\\3rd year\\Deep learning\\Individual Project2\\Hard Hat - Vest\\images\\test\\001597.jpg: 640x640 5 helmets, 6.5ms\n",
      "Speed: 2.3ms preprocess, 6.5ms inference, 1.4ms postprocess per image at shape (1, 3, 640, 640)\n"
     ]
    },
    {
     "name": "stderr",
     "output_type": "stream",
     "text": [
      "2025-05-24 22:37:24,442 - WARNING - Label-prediction mismatch in 001597.jpg: 9 ground truth vs 5 predicted\n"
     ]
    },
    {
     "name": "stdout",
     "output_type": "stream",
     "text": [
      "\n",
      "image 1/1 c:\\WORK STUFF LOL\\NTU file\\NTU file\\NTU courses\\3rd year\\Deep learning\\Individual Project2\\Hard Hat - Vest\\images\\test\\001600.jpg: 640x640 2 helmets, 3 vests, 7.8ms\n",
      "Speed: 2.2ms preprocess, 7.8ms inference, 2.3ms postprocess per image at shape (1, 3, 640, 640)\n"
     ]
    },
    {
     "name": "stderr",
     "output_type": "stream",
     "text": [
      "2025-05-24 22:37:24,465 - WARNING - Label-prediction mismatch in 001600.jpg: 4 ground truth vs 5 predicted\n"
     ]
    },
    {
     "name": "stdout",
     "output_type": "stream",
     "text": [
      "\n",
      "image 1/1 c:\\WORK STUFF LOL\\NTU file\\NTU file\\NTU courses\\3rd year\\Deep learning\\Individual Project2\\Hard Hat - Vest\\images\\test\\001603.jpg: 640x640 7 helmets, 1 head, 6.7ms\n",
      "Speed: 2.2ms preprocess, 6.7ms inference, 1.5ms postprocess per image at shape (1, 3, 640, 640)\n",
      "\n",
      "image 1/1 c:\\WORK STUFF LOL\\NTU file\\NTU file\\NTU courses\\3rd year\\Deep learning\\Individual Project2\\Hard Hat - Vest\\images\\test\\001604.jpg: 640x640 3 helmets, 6.9ms\n",
      "Speed: 2.1ms preprocess, 6.9ms inference, 2.0ms postprocess per image at shape (1, 3, 640, 640)\n",
      "\n",
      "image 1/1 c:\\WORK STUFF LOL\\NTU file\\NTU file\\NTU courses\\3rd year\\Deep learning\\Individual Project2\\Hard Hat - Vest\\images\\test\\001619.jpg: 640x640 3 helmets, 2 vests, 6.1ms\n",
      "Speed: 2.4ms preprocess, 6.1ms inference, 1.3ms postprocess per image at shape (1, 3, 640, 640)\n"
     ]
    },
    {
     "name": "stderr",
     "output_type": "stream",
     "text": [
      "2025-05-24 22:37:24,532 - WARNING - Label-prediction mismatch in 001619.jpg: 3 ground truth vs 5 predicted\n"
     ]
    },
    {
     "name": "stdout",
     "output_type": "stream",
     "text": [
      "\n",
      "image 1/1 c:\\WORK STUFF LOL\\NTU file\\NTU file\\NTU courses\\3rd year\\Deep learning\\Individual Project2\\Hard Hat - Vest\\images\\test\\001627.jpg: 640x640 4 helmets, 7.9ms\n",
      "Speed: 2.1ms preprocess, 7.9ms inference, 2.1ms postprocess per image at shape (1, 3, 640, 640)\n",
      "\n",
      "image 1/1 c:\\WORK STUFF LOL\\NTU file\\NTU file\\NTU courses\\3rd year\\Deep learning\\Individual Project2\\Hard Hat - Vest\\images\\test\\001628.jpg: 640x640 3 helmets, 5 vests, 6.9ms\n",
      "Speed: 2.3ms preprocess, 6.9ms inference, 1.5ms postprocess per image at shape (1, 3, 640, 640)\n"
     ]
    },
    {
     "name": "stderr",
     "output_type": "stream",
     "text": [
      "2025-05-24 22:37:24,578 - WARNING - Label-prediction mismatch in 001628.jpg: 6 ground truth vs 8 predicted\n"
     ]
    },
    {
     "name": "stdout",
     "output_type": "stream",
     "text": [
      "\n",
      "image 1/1 c:\\WORK STUFF LOL\\NTU file\\NTU file\\NTU courses\\3rd year\\Deep learning\\Individual Project2\\Hard Hat - Vest\\images\\test\\001629.jpg: 640x640 3 helmets, 8.0ms\n",
      "Speed: 2.4ms preprocess, 8.0ms inference, 1.8ms postprocess per image at shape (1, 3, 640, 640)\n"
     ]
    },
    {
     "name": "stderr",
     "output_type": "stream",
     "text": [
      "2025-05-24 22:37:24,603 - WARNING - Label-prediction mismatch in 001629.jpg: 2 ground truth vs 3 predicted\n"
     ]
    },
    {
     "name": "stdout",
     "output_type": "stream",
     "text": [
      "\n",
      "image 1/1 c:\\WORK STUFF LOL\\NTU file\\NTU file\\NTU courses\\3rd year\\Deep learning\\Individual Project2\\Hard Hat - Vest\\images\\test\\001633.jpg: 640x640 1 helmet, 1 vest, 6.7ms\n",
      "Speed: 2.4ms preprocess, 6.7ms inference, 1.6ms postprocess per image at shape (1, 3, 640, 640)\n"
     ]
    },
    {
     "name": "stderr",
     "output_type": "stream",
     "text": [
      "2025-05-24 22:37:24,627 - WARNING - Label-prediction mismatch in 001633.jpg: 1 ground truth vs 2 predicted\n"
     ]
    },
    {
     "name": "stdout",
     "output_type": "stream",
     "text": [
      "\n",
      "image 1/1 c:\\WORK STUFF LOL\\NTU file\\NTU file\\NTU courses\\3rd year\\Deep learning\\Individual Project2\\Hard Hat - Vest\\images\\test\\001639.jpg: 640x640 2 helmets, 2 vests, 1 head, 6.0ms\n",
      "Speed: 2.0ms preprocess, 6.0ms inference, 1.7ms postprocess per image at shape (1, 3, 640, 640)\n",
      "\n",
      "image 1/1 c:\\WORK STUFF LOL\\NTU file\\NTU file\\NTU courses\\3rd year\\Deep learning\\Individual Project2\\Hard Hat - Vest\\images\\test\\001648.jpg: 640x640 2 helmets, 1 vest, 5 heads, 5.3ms\n",
      "Speed: 2.4ms preprocess, 5.3ms inference, 1.4ms postprocess per image at shape (1, 3, 640, 640)\n"
     ]
    },
    {
     "name": "stderr",
     "output_type": "stream",
     "text": [
      "2025-05-24 22:37:24,670 - WARNING - Label-prediction mismatch in 001648.jpg: 9 ground truth vs 8 predicted\n"
     ]
    },
    {
     "name": "stdout",
     "output_type": "stream",
     "text": [
      "\n",
      "image 1/1 c:\\WORK STUFF LOL\\NTU file\\NTU file\\NTU courses\\3rd year\\Deep learning\\Individual Project2\\Hard Hat - Vest\\images\\test\\001654.jpg: 640x640 2 helmets, 9.5ms\n",
      "Speed: 2.3ms preprocess, 9.5ms inference, 1.6ms postprocess per image at shape (1, 3, 640, 640)\n",
      "\n",
      "image 1/1 c:\\WORK STUFF LOL\\NTU file\\NTU file\\NTU courses\\3rd year\\Deep learning\\Individual Project2\\Hard Hat - Vest\\images\\test\\001660.jpg: 640x640 1 helmet, 1 vest, 7.9ms\n",
      "Speed: 2.7ms preprocess, 7.9ms inference, 1.4ms postprocess per image at shape (1, 3, 640, 640)\n",
      "\n",
      "image 1/1 c:\\WORK STUFF LOL\\NTU file\\NTU file\\NTU courses\\3rd year\\Deep learning\\Individual Project2\\Hard Hat - Vest\\images\\test\\001679.jpg: 640x640 4 helmets, 1 vest, 5.9ms\n",
      "Speed: 2.4ms preprocess, 5.9ms inference, 1.6ms postprocess per image at shape (1, 3, 640, 640)\n"
     ]
    },
    {
     "name": "stderr",
     "output_type": "stream",
     "text": [
      "2025-05-24 22:37:24,740 - WARNING - Label-prediction mismatch in 001679.jpg: 3 ground truth vs 5 predicted\n"
     ]
    },
    {
     "name": "stdout",
     "output_type": "stream",
     "text": [
      "\n",
      "image 1/1 c:\\WORK STUFF LOL\\NTU file\\NTU file\\NTU courses\\3rd year\\Deep learning\\Individual Project2\\Hard Hat - Vest\\images\\test\\001702.jpg: 640x640 5 helmets, 10.0ms\n",
      "Speed: 2.7ms preprocess, 10.0ms inference, 2.8ms postprocess per image at shape (1, 3, 640, 640)\n",
      "\n",
      "image 1/1 c:\\WORK STUFF LOL\\NTU file\\NTU file\\NTU courses\\3rd year\\Deep learning\\Individual Project2\\Hard Hat - Vest\\images\\test\\001714.jpg: 640x640 8 helmets, 6.1ms\n",
      "Speed: 2.2ms preprocess, 6.1ms inference, 1.3ms postprocess per image at shape (1, 3, 640, 640)\n",
      "\n",
      "image 1/1 c:\\WORK STUFF LOL\\NTU file\\NTU file\\NTU courses\\3rd year\\Deep learning\\Individual Project2\\Hard Hat - Vest\\images\\test\\001736.jpg: 640x640 2 helmets, 11.1ms\n",
      "Speed: 2.6ms preprocess, 11.1ms inference, 2.0ms postprocess per image at shape (1, 3, 640, 640)\n"
     ]
    },
    {
     "name": "stderr",
     "output_type": "stream",
     "text": [
      "2025-05-24 22:37:24,818 - WARNING - Label-prediction mismatch in 001736.jpg: 3 ground truth vs 2 predicted\n"
     ]
    },
    {
     "name": "stdout",
     "output_type": "stream",
     "text": [
      "\n",
      "image 1/1 c:\\WORK STUFF LOL\\NTU file\\NTU file\\NTU courses\\3rd year\\Deep learning\\Individual Project2\\Hard Hat - Vest\\images\\test\\001738.jpg: 640x640 3 helmets, 5.9ms\n",
      "Speed: 2.5ms preprocess, 5.9ms inference, 1.4ms postprocess per image at shape (1, 3, 640, 640)\n"
     ]
    },
    {
     "name": "stderr",
     "output_type": "stream",
     "text": [
      "2025-05-24 22:37:24,839 - WARNING - Label-prediction mismatch in 001738.jpg: 1 ground truth vs 3 predicted\n"
     ]
    },
    {
     "name": "stdout",
     "output_type": "stream",
     "text": [
      "\n",
      "image 1/1 c:\\WORK STUFF LOL\\NTU file\\NTU file\\NTU courses\\3rd year\\Deep learning\\Individual Project2\\Hard Hat - Vest\\images\\test\\001754.jpg: 640x640 7 heads, 9.8ms\n",
      "Speed: 2.4ms preprocess, 9.8ms inference, 2.1ms postprocess per image at shape (1, 3, 640, 640)\n",
      "\n",
      "image 1/1 c:\\WORK STUFF LOL\\NTU file\\NTU file\\NTU courses\\3rd year\\Deep learning\\Individual Project2\\Hard Hat - Vest\\images\\test\\001757.jpg: 640x640 5 helmets, 1 vest, 11.1ms\n",
      "Speed: 2.8ms preprocess, 11.1ms inference, 1.5ms postprocess per image at shape (1, 3, 640, 640)\n"
     ]
    },
    {
     "name": "stderr",
     "output_type": "stream",
     "text": [
      "2025-05-24 22:37:24,893 - WARNING - Label-prediction mismatch in 001757.jpg: 5 ground truth vs 6 predicted\n"
     ]
    },
    {
     "name": "stdout",
     "output_type": "stream",
     "text": [
      "\n",
      "image 1/1 c:\\WORK STUFF LOL\\NTU file\\NTU file\\NTU courses\\3rd year\\Deep learning\\Individual Project2\\Hard Hat - Vest\\images\\test\\001761.jpg: 640x640 5 helmets, 7.6ms\n",
      "Speed: 2.2ms preprocess, 7.6ms inference, 2.1ms postprocess per image at shape (1, 3, 640, 640)\n"
     ]
    },
    {
     "name": "stderr",
     "output_type": "stream",
     "text": [
      "2025-05-24 22:37:24,916 - WARNING - Label-prediction mismatch in 001761.jpg: 3 ground truth vs 5 predicted\n"
     ]
    },
    {
     "name": "stdout",
     "output_type": "stream",
     "text": [
      "\n",
      "image 1/1 c:\\WORK STUFF LOL\\NTU file\\NTU file\\NTU courses\\3rd year\\Deep learning\\Individual Project2\\Hard Hat - Vest\\images\\test\\001768.jpg: 640x640 3 helmets, 5.6ms\n",
      "Speed: 2.1ms preprocess, 5.6ms inference, 1.8ms postprocess per image at shape (1, 3, 640, 640)\n"
     ]
    },
    {
     "name": "stderr",
     "output_type": "stream",
     "text": [
      "2025-05-24 22:37:24,939 - WARNING - Label-prediction mismatch in 001768.jpg: 2 ground truth vs 3 predicted\n"
     ]
    },
    {
     "name": "stdout",
     "output_type": "stream",
     "text": [
      "\n",
      "image 1/1 c:\\WORK STUFF LOL\\NTU file\\NTU file\\NTU courses\\3rd year\\Deep learning\\Individual Project2\\Hard Hat - Vest\\images\\test\\001772.jpg: 640x640 2 helmets, 7.0ms\n",
      "Speed: 2.5ms preprocess, 7.0ms inference, 1.4ms postprocess per image at shape (1, 3, 640, 640)\n"
     ]
    },
    {
     "name": "stderr",
     "output_type": "stream",
     "text": [
      "2025-05-24 22:37:24,961 - WARNING - Label-prediction mismatch in 001772.jpg: 1 ground truth vs 2 predicted\n"
     ]
    },
    {
     "name": "stdout",
     "output_type": "stream",
     "text": [
      "\n",
      "image 1/1 c:\\WORK STUFF LOL\\NTU file\\NTU file\\NTU courses\\3rd year\\Deep learning\\Individual Project2\\Hard Hat - Vest\\images\\test\\001773.jpg: 640x640 4 helmets, 5.1ms\n",
      "Speed: 2.9ms preprocess, 5.1ms inference, 1.8ms postprocess per image at shape (1, 3, 640, 640)\n",
      "\n",
      "image 1/1 c:\\WORK STUFF LOL\\NTU file\\NTU file\\NTU courses\\3rd year\\Deep learning\\Individual Project2\\Hard Hat - Vest\\images\\test\\001776.jpg: 640x640 2 helmets, 7.0ms\n",
      "Speed: 2.0ms preprocess, 7.0ms inference, 1.4ms postprocess per image at shape (1, 3, 640, 640)\n",
      "\n",
      "image 1/1 c:\\WORK STUFF LOL\\NTU file\\NTU file\\NTU courses\\3rd year\\Deep learning\\Individual Project2\\Hard Hat - Vest\\images\\test\\001789.jpg: 640x640 5 helmets, 5.0ms\n",
      "Speed: 2.4ms preprocess, 5.0ms inference, 1.4ms postprocess per image at shape (1, 3, 640, 640)\n",
      "\n",
      "image 1/1 c:\\WORK STUFF LOL\\NTU file\\NTU file\\NTU courses\\3rd year\\Deep learning\\Individual Project2\\Hard Hat - Vest\\images\\test\\001805.jpg: 640x640 1 helmet, 5.3ms\n",
      "Speed: 2.4ms preprocess, 5.3ms inference, 1.3ms postprocess per image at shape (1, 3, 640, 640)\n",
      "\n",
      "image 1/1 c:\\WORK STUFF LOL\\NTU file\\NTU file\\NTU courses\\3rd year\\Deep learning\\Individual Project2\\Hard Hat - Vest\\images\\test\\001813.jpg: 640x640 12 helmets, 2 heads, 5.7ms\n",
      "Speed: 2.2ms preprocess, 5.7ms inference, 1.8ms postprocess per image at shape (1, 3, 640, 640)\n"
     ]
    },
    {
     "name": "stderr",
     "output_type": "stream",
     "text": [
      "2025-05-24 22:37:25,064 - WARNING - Label-prediction mismatch in 001813.jpg: 9 ground truth vs 14 predicted\n"
     ]
    },
    {
     "name": "stdout",
     "output_type": "stream",
     "text": [
      "\n",
      "image 1/1 c:\\WORK STUFF LOL\\NTU file\\NTU file\\NTU courses\\3rd year\\Deep learning\\Individual Project2\\Hard Hat - Vest\\images\\test\\001814.jpg: 640x640 3 helmets, 6.5ms\n",
      "Speed: 2.3ms preprocess, 6.5ms inference, 1.3ms postprocess per image at shape (1, 3, 640, 640)\n"
     ]
    },
    {
     "name": "stderr",
     "output_type": "stream",
     "text": [
      "2025-05-24 22:37:25,088 - WARNING - Label-prediction mismatch in 001814.jpg: 4 ground truth vs 3 predicted\n"
     ]
    },
    {
     "name": "stdout",
     "output_type": "stream",
     "text": [
      "\n",
      "image 1/1 c:\\WORK STUFF LOL\\NTU file\\NTU file\\NTU courses\\3rd year\\Deep learning\\Individual Project2\\Hard Hat - Vest\\images\\test\\001819.jpg: 640x640 5 helmets, 1 vest, 5.1ms\n",
      "Speed: 2.2ms preprocess, 5.1ms inference, 2.0ms postprocess per image at shape (1, 3, 640, 640)\n"
     ]
    },
    {
     "name": "stderr",
     "output_type": "stream",
     "text": [
      "2025-05-24 22:37:25,110 - WARNING - Label-prediction mismatch in 001819.jpg: 4 ground truth vs 6 predicted\n"
     ]
    },
    {
     "name": "stdout",
     "output_type": "stream",
     "text": [
      "\n",
      "image 1/1 c:\\WORK STUFF LOL\\NTU file\\NTU file\\NTU courses\\3rd year\\Deep learning\\Individual Project2\\Hard Hat - Vest\\images\\test\\001825.jpg: 640x640 12 helmets, 6.2ms\n",
      "Speed: 2.6ms preprocess, 6.2ms inference, 1.5ms postprocess per image at shape (1, 3, 640, 640)\n",
      "\n",
      "image 1/1 c:\\WORK STUFF LOL\\NTU file\\NTU file\\NTU courses\\3rd year\\Deep learning\\Individual Project2\\Hard Hat - Vest\\images\\test\\001830.jpg: 640x640 2 helmets, 9.0ms\n",
      "Speed: 2.6ms preprocess, 9.0ms inference, 2.3ms postprocess per image at shape (1, 3, 640, 640)\n",
      "\n",
      "image 1/1 c:\\WORK STUFF LOL\\NTU file\\NTU file\\NTU courses\\3rd year\\Deep learning\\Individual Project2\\Hard Hat - Vest\\images\\test\\001843.jpg: 640x640 3 helmets, 1 vest, 7.6ms\n",
      "Speed: 2.3ms preprocess, 7.6ms inference, 3.0ms postprocess per image at shape (1, 3, 640, 640)\n"
     ]
    },
    {
     "name": "stderr",
     "output_type": "stream",
     "text": [
      "2025-05-24 22:37:25,185 - WARNING - Label-prediction mismatch in 001843.jpg: 3 ground truth vs 4 predicted\n"
     ]
    },
    {
     "name": "stdout",
     "output_type": "stream",
     "text": [
      "\n",
      "image 1/1 c:\\WORK STUFF LOL\\NTU file\\NTU file\\NTU courses\\3rd year\\Deep learning\\Individual Project2\\Hard Hat - Vest\\images\\test\\001851.jpg: 640x640 4 helmets, 1 head, 5.9ms\n",
      "Speed: 2.4ms preprocess, 5.9ms inference, 1.9ms postprocess per image at shape (1, 3, 640, 640)\n"
     ]
    },
    {
     "name": "stderr",
     "output_type": "stream",
     "text": [
      "2025-05-24 22:37:25,207 - WARNING - Label-prediction mismatch in 001851.jpg: 4 ground truth vs 5 predicted\n"
     ]
    },
    {
     "name": "stdout",
     "output_type": "stream",
     "text": [
      "\n",
      "image 1/1 c:\\WORK STUFF LOL\\NTU file\\NTU file\\NTU courses\\3rd year\\Deep learning\\Individual Project2\\Hard Hat - Vest\\images\\test\\001861.jpg: 640x640 15 helmets, 11.5ms\n",
      "Speed: 2.7ms preprocess, 11.5ms inference, 3.4ms postprocess per image at shape (1, 3, 640, 640)\n",
      "\n",
      "image 1/1 c:\\WORK STUFF LOL\\NTU file\\NTU file\\NTU courses\\3rd year\\Deep learning\\Individual Project2\\Hard Hat - Vest\\images\\test\\001883.jpg: 640x640 14 helmets, 1 head, 5.8ms\n",
      "Speed: 3.1ms preprocess, 5.8ms inference, 1.6ms postprocess per image at shape (1, 3, 640, 640)\n"
     ]
    },
    {
     "name": "stderr",
     "output_type": "stream",
     "text": [
      "2025-05-24 22:37:25,268 - WARNING - Label-prediction mismatch in 001883.jpg: 11 ground truth vs 15 predicted\n"
     ]
    },
    {
     "name": "stdout",
     "output_type": "stream",
     "text": [
      "\n",
      "image 1/1 c:\\WORK STUFF LOL\\NTU file\\NTU file\\NTU courses\\3rd year\\Deep learning\\Individual Project2\\Hard Hat - Vest\\images\\test\\001884.jpg: 640x640 4 helmets, 6.8ms\n",
      "Speed: 2.2ms preprocess, 6.8ms inference, 1.8ms postprocess per image at shape (1, 3, 640, 640)\n"
     ]
    },
    {
     "name": "stderr",
     "output_type": "stream",
     "text": [
      "2025-05-24 22:37:25,292 - WARNING - Label-prediction mismatch in 001884.jpg: 2 ground truth vs 4 predicted\n"
     ]
    },
    {
     "name": "stdout",
     "output_type": "stream",
     "text": [
      "\n",
      "image 1/1 c:\\WORK STUFF LOL\\NTU file\\NTU file\\NTU courses\\3rd year\\Deep learning\\Individual Project2\\Hard Hat - Vest\\images\\test\\001888.jpg: 640x640 1 helmet, 7 heads, 6.2ms\n",
      "Speed: 2.6ms preprocess, 6.2ms inference, 1.8ms postprocess per image at shape (1, 3, 640, 640)\n"
     ]
    },
    {
     "name": "stderr",
     "output_type": "stream",
     "text": [
      "2025-05-24 22:37:25,315 - WARNING - Label-prediction mismatch in 001888.jpg: 7 ground truth vs 8 predicted\n"
     ]
    },
    {
     "name": "stdout",
     "output_type": "stream",
     "text": [
      "\n",
      "image 1/1 c:\\WORK STUFF LOL\\NTU file\\NTU file\\NTU courses\\3rd year\\Deep learning\\Individual Project2\\Hard Hat - Vest\\images\\test\\001895.jpg: 640x640 4 helmets, 6.3ms\n",
      "Speed: 2.7ms preprocess, 6.3ms inference, 1.6ms postprocess per image at shape (1, 3, 640, 640)\n"
     ]
    },
    {
     "name": "stderr",
     "output_type": "stream",
     "text": [
      "2025-05-24 22:37:25,339 - WARNING - Label-prediction mismatch in 001895.jpg: 2 ground truth vs 4 predicted\n"
     ]
    },
    {
     "name": "stdout",
     "output_type": "stream",
     "text": [
      "\n",
      "image 1/1 c:\\WORK STUFF LOL\\NTU file\\NTU file\\NTU courses\\3rd year\\Deep learning\\Individual Project2\\Hard Hat - Vest\\images\\test\\001905.jpg: 640x640 3 helmets, 6 heads, 16.7ms\n",
      "Speed: 3.0ms preprocess, 16.7ms inference, 3.4ms postprocess per image at shape (1, 3, 640, 640)\n"
     ]
    },
    {
     "name": "stderr",
     "output_type": "stream",
     "text": [
      "2025-05-24 22:37:25,377 - WARNING - Label-prediction mismatch in 001905.jpg: 10 ground truth vs 9 predicted\n"
     ]
    },
    {
     "name": "stdout",
     "output_type": "stream",
     "text": [
      "\n",
      "image 1/1 c:\\WORK STUFF LOL\\NTU file\\NTU file\\NTU courses\\3rd year\\Deep learning\\Individual Project2\\Hard Hat - Vest\\images\\test\\001912.jpg: 640x640 6 heads, 9.1ms\n",
      "Speed: 4.3ms preprocess, 9.1ms inference, 1.5ms postprocess per image at shape (1, 3, 640, 640)\n",
      "\n",
      "image 1/1 c:\\WORK STUFF LOL\\NTU file\\NTU file\\NTU courses\\3rd year\\Deep learning\\Individual Project2\\Hard Hat - Vest\\images\\test\\001928.jpg: 640x640 2 helmets, 1 vest, 7.2ms\n",
      "Speed: 2.5ms preprocess, 7.2ms inference, 1.6ms postprocess per image at shape (1, 3, 640, 640)\n",
      "\n",
      "image 1/1 c:\\WORK STUFF LOL\\NTU file\\NTU file\\NTU courses\\3rd year\\Deep learning\\Individual Project2\\Hard Hat - Vest\\images\\test\\001935.jpg: 640x640 1 helmet, 1 vest, 8.0ms\n",
      "Speed: 2.2ms preprocess, 8.0ms inference, 2.3ms postprocess per image at shape (1, 3, 640, 640)\n",
      "\n",
      "image 1/1 c:\\WORK STUFF LOL\\NTU file\\NTU file\\NTU courses\\3rd year\\Deep learning\\Individual Project2\\Hard Hat - Vest\\images\\test\\001936.jpg: 640x640 3 helmets, 7.0ms\n",
      "Speed: 2.6ms preprocess, 7.0ms inference, 1.4ms postprocess per image at shape (1, 3, 640, 640)\n"
     ]
    },
    {
     "name": "stderr",
     "output_type": "stream",
     "text": [
      "2025-05-24 22:37:25,475 - WARNING - Label-prediction mismatch in 001936.jpg: 2 ground truth vs 3 predicted\n"
     ]
    },
    {
     "name": "stdout",
     "output_type": "stream",
     "text": [
      "\n",
      "image 1/1 c:\\WORK STUFF LOL\\NTU file\\NTU file\\NTU courses\\3rd year\\Deep learning\\Individual Project2\\Hard Hat - Vest\\images\\test\\001968.jpg: 640x640 6 heads, 12.1ms\n",
      "Speed: 2.5ms preprocess, 12.1ms inference, 1.7ms postprocess per image at shape (1, 3, 640, 640)\n",
      "\n",
      "image 1/1 c:\\WORK STUFF LOL\\NTU file\\NTU file\\NTU courses\\3rd year\\Deep learning\\Individual Project2\\Hard Hat - Vest\\images\\test\\001970.jpg: 640x640 6 heads, 7.0ms\n",
      "Speed: 3.3ms preprocess, 7.0ms inference, 2.1ms postprocess per image at shape (1, 3, 640, 640)\n"
     ]
    },
    {
     "name": "stderr",
     "output_type": "stream",
     "text": [
      "2025-05-24 22:37:25,526 - WARNING - Label-prediction mismatch in 001970.jpg: 7 ground truth vs 6 predicted\n"
     ]
    },
    {
     "name": "stdout",
     "output_type": "stream",
     "text": [
      "\n",
      "image 1/1 c:\\WORK STUFF LOL\\NTU file\\NTU file\\NTU courses\\3rd year\\Deep learning\\Individual Project2\\Hard Hat - Vest\\images\\test\\001973.jpg: 640x640 13 heads, 8.5ms\n",
      "Speed: 2.4ms preprocess, 8.5ms inference, 1.8ms postprocess per image at shape (1, 3, 640, 640)\n"
     ]
    },
    {
     "name": "stderr",
     "output_type": "stream",
     "text": [
      "2025-05-24 22:37:25,553 - WARNING - Label-prediction mismatch in 001973.jpg: 12 ground truth vs 13 predicted\n"
     ]
    },
    {
     "name": "stdout",
     "output_type": "stream",
     "text": [
      "\n",
      "image 1/1 c:\\WORK STUFF LOL\\NTU file\\NTU file\\NTU courses\\3rd year\\Deep learning\\Individual Project2\\Hard Hat - Vest\\images\\test\\001974.jpg: 640x640 3 helmets, 1 vest, 7.2ms\n",
      "Speed: 2.2ms preprocess, 7.2ms inference, 2.6ms postprocess per image at shape (1, 3, 640, 640)\n"
     ]
    },
    {
     "name": "stderr",
     "output_type": "stream",
     "text": [
      "2025-05-24 22:37:25,578 - WARNING - Label-prediction mismatch in 001974.jpg: 3 ground truth vs 4 predicted\n"
     ]
    },
    {
     "name": "stdout",
     "output_type": "stream",
     "text": [
      "\n",
      "image 1/1 c:\\WORK STUFF LOL\\NTU file\\NTU file\\NTU courses\\3rd year\\Deep learning\\Individual Project2\\Hard Hat - Vest\\images\\test\\001988.jpg: 640x640 8 helmets, 7.1ms\n",
      "Speed: 2.3ms preprocess, 7.1ms inference, 1.4ms postprocess per image at shape (1, 3, 640, 640)\n"
     ]
    },
    {
     "name": "stderr",
     "output_type": "stream",
     "text": [
      "2025-05-24 22:37:25,601 - WARNING - Label-prediction mismatch in 001988.jpg: 11 ground truth vs 8 predicted\n"
     ]
    },
    {
     "name": "stdout",
     "output_type": "stream",
     "text": [
      "\n",
      "image 1/1 c:\\WORK STUFF LOL\\NTU file\\NTU file\\NTU courses\\3rd year\\Deep learning\\Individual Project2\\Hard Hat - Vest\\images\\test\\001994.jpg: 640x640 (no detections), 7.5ms\n",
      "Speed: 2.8ms preprocess, 7.5ms inference, 1.6ms postprocess per image at shape (1, 3, 640, 640)\n"
     ]
    },
    {
     "name": "stderr",
     "output_type": "stream",
     "text": [
      "2025-05-24 22:37:25,629 - WARNING - Label-prediction mismatch in 001994.jpg: 1 ground truth vs 0 predicted\n"
     ]
    },
    {
     "name": "stdout",
     "output_type": "stream",
     "text": [
      "\n",
      "image 1/1 c:\\WORK STUFF LOL\\NTU file\\NTU file\\NTU courses\\3rd year\\Deep learning\\Individual Project2\\Hard Hat - Vest\\images\\test\\002006.jpg: 640x640 5 helmets, 10.9ms\n",
      "Speed: 4.0ms preprocess, 10.9ms inference, 1.8ms postprocess per image at shape (1, 3, 640, 640)\n"
     ]
    },
    {
     "name": "stderr",
     "output_type": "stream",
     "text": [
      "2025-05-24 22:37:25,666 - WARNING - Label-prediction mismatch in 002006.jpg: 4 ground truth vs 5 predicted\n"
     ]
    },
    {
     "name": "stdout",
     "output_type": "stream",
     "text": [
      "\n",
      "image 1/1 c:\\WORK STUFF LOL\\NTU file\\NTU file\\NTU courses\\3rd year\\Deep learning\\Individual Project2\\Hard Hat - Vest\\images\\test\\002012.jpg: 640x640 10 heads, 7.1ms\n",
      "Speed: 2.7ms preprocess, 7.1ms inference, 2.9ms postprocess per image at shape (1, 3, 640, 640)\n"
     ]
    },
    {
     "name": "stderr",
     "output_type": "stream",
     "text": [
      "2025-05-24 22:37:25,695 - WARNING - Label-prediction mismatch in 002012.jpg: 8 ground truth vs 10 predicted\n"
     ]
    },
    {
     "name": "stdout",
     "output_type": "stream",
     "text": [
      "\n",
      "image 1/1 c:\\WORK STUFF LOL\\NTU file\\NTU file\\NTU courses\\3rd year\\Deep learning\\Individual Project2\\Hard Hat - Vest\\images\\test\\002022.jpg: 640x640 1 helmet, 7.3ms\n",
      "Speed: 2.7ms preprocess, 7.3ms inference, 2.3ms postprocess per image at shape (1, 3, 640, 640)\n",
      "\n",
      "image 1/1 c:\\WORK STUFF LOL\\NTU file\\NTU file\\NTU courses\\3rd year\\Deep learning\\Individual Project2\\Hard Hat - Vest\\images\\test\\002030.jpg: 640x640 4 helmets, 11.6ms\n",
      "Speed: 3.1ms preprocess, 11.6ms inference, 2.2ms postprocess per image at shape (1, 3, 640, 640)\n",
      "\n",
      "image 1/1 c:\\WORK STUFF LOL\\NTU file\\NTU file\\NTU courses\\3rd year\\Deep learning\\Individual Project2\\Hard Hat - Vest\\images\\test\\002031.jpg: 640x640 5 helmets, 8.8ms\n",
      "Speed: 2.6ms preprocess, 8.8ms inference, 1.4ms postprocess per image at shape (1, 3, 640, 640)\n"
     ]
    },
    {
     "name": "stderr",
     "output_type": "stream",
     "text": [
      "2025-05-24 22:37:25,775 - WARNING - Label-prediction mismatch in 002031.jpg: 4 ground truth vs 5 predicted\n"
     ]
    },
    {
     "name": "stdout",
     "output_type": "stream",
     "text": [
      "\n",
      "image 1/1 c:\\WORK STUFF LOL\\NTU file\\NTU file\\NTU courses\\3rd year\\Deep learning\\Individual Project2\\Hard Hat - Vest\\images\\test\\002047.jpg: 640x640 10 helmets, 1 vest, 7.1ms\n",
      "Speed: 2.5ms preprocess, 7.1ms inference, 2.0ms postprocess per image at shape (1, 3, 640, 640)\n"
     ]
    },
    {
     "name": "stderr",
     "output_type": "stream",
     "text": [
      "2025-05-24 22:37:25,799 - WARNING - Label-prediction mismatch in 002047.jpg: 7 ground truth vs 11 predicted\n"
     ]
    },
    {
     "name": "stdout",
     "output_type": "stream",
     "text": [
      "\n",
      "image 1/1 c:\\WORK STUFF LOL\\NTU file\\NTU file\\NTU courses\\3rd year\\Deep learning\\Individual Project2\\Hard Hat - Vest\\images\\test\\002055.jpg: 640x640 8 heads, 7.1ms\n",
      "Speed: 2.8ms preprocess, 7.1ms inference, 3.2ms postprocess per image at shape (1, 3, 640, 640)\n",
      "\n",
      "image 1/1 c:\\WORK STUFF LOL\\NTU file\\NTU file\\NTU courses\\3rd year\\Deep learning\\Individual Project2\\Hard Hat - Vest\\images\\test\\002058.jpg: 640x640 4 helmets, 8.1ms\n",
      "Speed: 2.4ms preprocess, 8.1ms inference, 4.2ms postprocess per image at shape (1, 3, 640, 640)\n",
      "\n",
      "image 1/1 c:\\WORK STUFF LOL\\NTU file\\NTU file\\NTU courses\\3rd year\\Deep learning\\Individual Project2\\Hard Hat - Vest\\images\\test\\002069.jpg: 640x640 1 helmet, 7.1ms\n",
      "Speed: 2.7ms preprocess, 7.1ms inference, 2.1ms postprocess per image at shape (1, 3, 640, 640)\n"
     ]
    },
    {
     "name": "stderr",
     "output_type": "stream",
     "text": [
      "2025-05-24 22:37:25,881 - WARNING - Label-prediction mismatch in 002069.jpg: 2 ground truth vs 1 predicted\n"
     ]
    },
    {
     "name": "stdout",
     "output_type": "stream",
     "text": [
      "\n",
      "image 1/1 c:\\WORK STUFF LOL\\NTU file\\NTU file\\NTU courses\\3rd year\\Deep learning\\Individual Project2\\Hard Hat - Vest\\images\\test\\002073.jpg: 640x640 5 helmets, 7.2ms\n",
      "Speed: 2.8ms preprocess, 7.2ms inference, 1.9ms postprocess per image at shape (1, 3, 640, 640)\n",
      "\n",
      "image 1/1 c:\\WORK STUFF LOL\\NTU file\\NTU file\\NTU courses\\3rd year\\Deep learning\\Individual Project2\\Hard Hat - Vest\\images\\test\\002075.jpg: 640x640 6 helmets, 14.3ms\n",
      "Speed: 3.1ms preprocess, 14.3ms inference, 3.1ms postprocess per image at shape (1, 3, 640, 640)\n",
      "\n",
      "image 1/1 c:\\WORK STUFF LOL\\NTU file\\NTU file\\NTU courses\\3rd year\\Deep learning\\Individual Project2\\Hard Hat - Vest\\images\\test\\002077.jpg: 640x640 4 helmets, 1 vest, 8.7ms\n",
      "Speed: 2.7ms preprocess, 8.7ms inference, 1.8ms postprocess per image at shape (1, 3, 640, 640)\n",
      "\n",
      "image 1/1 c:\\WORK STUFF LOL\\NTU file\\NTU file\\NTU courses\\3rd year\\Deep learning\\Individual Project2\\Hard Hat - Vest\\images\\test\\002089.jpg: 640x640 6 helmets, 1 head, 8.0ms\n",
      "Speed: 2.9ms preprocess, 8.0ms inference, 2.5ms postprocess per image at shape (1, 3, 640, 640)\n"
     ]
    },
    {
     "name": "stderr",
     "output_type": "stream",
     "text": [
      "2025-05-24 22:37:25,987 - WARNING - Label-prediction mismatch in 002089.jpg: 6 ground truth vs 7 predicted\n"
     ]
    },
    {
     "name": "stdout",
     "output_type": "stream",
     "text": [
      "\n",
      "image 1/1 c:\\WORK STUFF LOL\\NTU file\\NTU file\\NTU courses\\3rd year\\Deep learning\\Individual Project2\\Hard Hat - Vest\\images\\test\\002090.jpg: 640x640 2 helmets, 8.5ms\n",
      "Speed: 2.4ms preprocess, 8.5ms inference, 2.1ms postprocess per image at shape (1, 3, 640, 640)\n"
     ]
    },
    {
     "name": "stderr",
     "output_type": "stream",
     "text": [
      "2025-05-24 22:37:26,013 - WARNING - Label-prediction mismatch in 002090.jpg: 1 ground truth vs 2 predicted\n"
     ]
    },
    {
     "name": "stdout",
     "output_type": "stream",
     "text": [
      "\n",
      "image 1/1 c:\\WORK STUFF LOL\\NTU file\\NTU file\\NTU courses\\3rd year\\Deep learning\\Individual Project2\\Hard Hat - Vest\\images\\test\\002122.jpg: 640x640 5 helmets, 7.4ms\n",
      "Speed: 2.8ms preprocess, 7.4ms inference, 2.9ms postprocess per image at shape (1, 3, 640, 640)\n",
      "\n",
      "image 1/1 c:\\WORK STUFF LOL\\NTU file\\NTU file\\NTU courses\\3rd year\\Deep learning\\Individual Project2\\Hard Hat - Vest\\images\\test\\002133.jpg: 640x640 12 heads, 7.3ms\n",
      "Speed: 2.4ms preprocess, 7.3ms inference, 2.4ms postprocess per image at shape (1, 3, 640, 640)\n",
      "\n",
      "image 1/1 c:\\WORK STUFF LOL\\NTU file\\NTU file\\NTU courses\\3rd year\\Deep learning\\Individual Project2\\Hard Hat - Vest\\images\\test\\002136.jpg: 640x640 10 helmets, 1 vest, 7.2ms\n",
      "Speed: 2.9ms preprocess, 7.2ms inference, 1.6ms postprocess per image at shape (1, 3, 640, 640)\n"
     ]
    },
    {
     "name": "stderr",
     "output_type": "stream",
     "text": [
      "2025-05-24 22:37:26,088 - WARNING - Label-prediction mismatch in 002136.jpg: 10 ground truth vs 11 predicted\n"
     ]
    },
    {
     "name": "stdout",
     "output_type": "stream",
     "text": [
      "\n",
      "image 1/1 c:\\WORK STUFF LOL\\NTU file\\NTU file\\NTU courses\\3rd year\\Deep learning\\Individual Project2\\Hard Hat - Vest\\images\\test\\002146.jpg: 640x640 3 helmets, 1 vest, 8.2ms\n",
      "Speed: 2.7ms preprocess, 8.2ms inference, 2.0ms postprocess per image at shape (1, 3, 640, 640)\n",
      "\n",
      "image 1/1 c:\\WORK STUFF LOL\\NTU file\\NTU file\\NTU courses\\3rd year\\Deep learning\\Individual Project2\\Hard Hat - Vest\\images\\test\\002148.jpg: 640x640 5 helmets, 7.3ms\n",
      "Speed: 3.0ms preprocess, 7.3ms inference, 2.8ms postprocess per image at shape (1, 3, 640, 640)\n"
     ]
    },
    {
     "name": "stderr",
     "output_type": "stream",
     "text": [
      "2025-05-24 22:37:26,138 - WARNING - Label-prediction mismatch in 002148.jpg: 6 ground truth vs 5 predicted\n"
     ]
    },
    {
     "name": "stdout",
     "output_type": "stream",
     "text": [
      "\n",
      "image 1/1 c:\\WORK STUFF LOL\\NTU file\\NTU file\\NTU courses\\3rd year\\Deep learning\\Individual Project2\\Hard Hat - Vest\\images\\test\\002159.jpg: 640x640 5 helmets, 7.2ms\n",
      "Speed: 2.6ms preprocess, 7.2ms inference, 1.7ms postprocess per image at shape (1, 3, 640, 640)\n",
      "\n",
      "image 1/1 c:\\WORK STUFF LOL\\NTU file\\NTU file\\NTU courses\\3rd year\\Deep learning\\Individual Project2\\Hard Hat - Vest\\images\\test\\002160.jpg: 640x640 2 helmets, 12.3ms\n",
      "Speed: 2.6ms preprocess, 12.3ms inference, 3.0ms postprocess per image at shape (1, 3, 640, 640)\n",
      "\n",
      "image 1/1 c:\\WORK STUFF LOL\\NTU file\\NTU file\\NTU courses\\3rd year\\Deep learning\\Individual Project2\\Hard Hat - Vest\\images\\test\\002161.jpg: 640x640 2 helmets, 9.8ms\n",
      "Speed: 2.6ms preprocess, 9.8ms inference, 1.4ms postprocess per image at shape (1, 3, 640, 640)\n",
      "\n",
      "image 1/1 c:\\WORK STUFF LOL\\NTU file\\NTU file\\NTU courses\\3rd year\\Deep learning\\Individual Project2\\Hard Hat - Vest\\images\\test\\002179.jpg: 640x640 1 helmet, 1 vest, 12.1ms\n",
      "Speed: 2.8ms preprocess, 12.1ms inference, 4.3ms postprocess per image at shape (1, 3, 640, 640)\n"
     ]
    },
    {
     "name": "stderr",
     "output_type": "stream",
     "text": [
      "2025-05-24 22:37:26,249 - WARNING - Label-prediction mismatch in 002179.jpg: 1 ground truth vs 2 predicted\n"
     ]
    },
    {
     "name": "stdout",
     "output_type": "stream",
     "text": [
      "\n",
      "image 1/1 c:\\WORK STUFF LOL\\NTU file\\NTU file\\NTU courses\\3rd year\\Deep learning\\Individual Project2\\Hard Hat - Vest\\images\\test\\002190.jpg: 640x640 9 helmets, 10.8ms\n",
      "Speed: 4.0ms preprocess, 10.8ms inference, 2.7ms postprocess per image at shape (1, 3, 640, 640)\n",
      "\n",
      "image 1/1 c:\\WORK STUFF LOL\\NTU file\\NTU file\\NTU courses\\3rd year\\Deep learning\\Individual Project2\\Hard Hat - Vest\\images\\test\\002192.jpg: 640x640 1 helmet, 7.3ms\n",
      "Speed: 2.6ms preprocess, 7.3ms inference, 1.4ms postprocess per image at shape (1, 3, 640, 640)\n",
      "\n",
      "image 1/1 c:\\WORK STUFF LOL\\NTU file\\NTU file\\NTU courses\\3rd year\\Deep learning\\Individual Project2\\Hard Hat - Vest\\images\\test\\002224.jpg: 640x640 7 heads, 8.3ms\n",
      "Speed: 2.6ms preprocess, 8.3ms inference, 3.6ms postprocess per image at shape (1, 3, 640, 640)\n",
      "\n",
      "image 1/1 c:\\WORK STUFF LOL\\NTU file\\NTU file\\NTU courses\\3rd year\\Deep learning\\Individual Project2\\Hard Hat - Vest\\images\\test\\002226.jpg: 640x640 3 helmets, 9.0ms\n",
      "Speed: 2.4ms preprocess, 9.0ms inference, 2.5ms postprocess per image at shape (1, 3, 640, 640)\n",
      "\n",
      "image 1/1 c:\\WORK STUFF LOL\\NTU file\\NTU file\\NTU courses\\3rd year\\Deep learning\\Individual Project2\\Hard Hat - Vest\\images\\test\\002242.jpg: 640x640 3 helmets, 1 vest, 8.2ms\n",
      "Speed: 2.7ms preprocess, 8.2ms inference, 2.1ms postprocess per image at shape (1, 3, 640, 640)\n"
     ]
    },
    {
     "name": "stderr",
     "output_type": "stream",
     "text": [
      "2025-05-24 22:37:26,385 - WARNING - Label-prediction mismatch in 002242.jpg: 1 ground truth vs 4 predicted\n"
     ]
    },
    {
     "name": "stdout",
     "output_type": "stream",
     "text": [
      "\n",
      "image 1/1 c:\\WORK STUFF LOL\\NTU file\\NTU file\\NTU courses\\3rd year\\Deep learning\\Individual Project2\\Hard Hat - Vest\\images\\test\\002294.jpg: 640x640 5 helmets, 7.3ms\n",
      "Speed: 2.9ms preprocess, 7.3ms inference, 2.5ms postprocess per image at shape (1, 3, 640, 640)\n"
     ]
    },
    {
     "name": "stderr",
     "output_type": "stream",
     "text": [
      "2025-05-24 22:37:26,410 - WARNING - Label-prediction mismatch in 002294.jpg: 4 ground truth vs 5 predicted\n"
     ]
    },
    {
     "name": "stdout",
     "output_type": "stream",
     "text": [
      "\n",
      "image 1/1 c:\\WORK STUFF LOL\\NTU file\\NTU file\\NTU courses\\3rd year\\Deep learning\\Individual Project2\\Hard Hat - Vest\\images\\test\\002331.jpg: 640x640 2 helmets, 8.3ms\n",
      "Speed: 2.9ms preprocess, 8.3ms inference, 2.3ms postprocess per image at shape (1, 3, 640, 640)\n",
      "\n",
      "image 1/1 c:\\WORK STUFF LOL\\NTU file\\NTU file\\NTU courses\\3rd year\\Deep learning\\Individual Project2\\Hard Hat - Vest\\images\\test\\002333.jpg: 640x640 1 helmet, 7.3ms\n",
      "Speed: 3.1ms preprocess, 7.3ms inference, 3.0ms postprocess per image at shape (1, 3, 640, 640)\n",
      "\n",
      "image 1/1 c:\\WORK STUFF LOL\\NTU file\\NTU file\\NTU courses\\3rd year\\Deep learning\\Individual Project2\\Hard Hat - Vest\\images\\test\\002338.jpg: 640x640 2 helmets, 7.5ms\n",
      "Speed: 2.8ms preprocess, 7.5ms inference, 1.4ms postprocess per image at shape (1, 3, 640, 640)\n",
      "\n",
      "image 1/1 c:\\WORK STUFF LOL\\NTU file\\NTU file\\NTU courses\\3rd year\\Deep learning\\Individual Project2\\Hard Hat - Vest\\images\\test\\002346.jpg: 640x640 2 helmets, 1 head, 11.0ms\n",
      "Speed: 2.7ms preprocess, 11.0ms inference, 2.7ms postprocess per image at shape (1, 3, 640, 640)\n"
     ]
    },
    {
     "name": "stderr",
     "output_type": "stream",
     "text": [
      "2025-05-24 22:37:26,512 - WARNING - Label-prediction mismatch in 002346.jpg: 4 ground truth vs 3 predicted\n"
     ]
    },
    {
     "name": "stdout",
     "output_type": "stream",
     "text": [
      "\n",
      "image 1/1 c:\\WORK STUFF LOL\\NTU file\\NTU file\\NTU courses\\3rd year\\Deep learning\\Individual Project2\\Hard Hat - Vest\\images\\test\\002348.jpg: 640x640 2 helmets, 7.4ms\n",
      "Speed: 2.7ms preprocess, 7.4ms inference, 4.0ms postprocess per image at shape (1, 3, 640, 640)\n",
      "\n",
      "image 1/1 c:\\WORK STUFF LOL\\NTU file\\NTU file\\NTU courses\\3rd year\\Deep learning\\Individual Project2\\Hard Hat - Vest\\images\\test\\002363.jpg: 640x640 15 heads, 9.5ms\n",
      "Speed: 2.6ms preprocess, 9.5ms inference, 1.6ms postprocess per image at shape (1, 3, 640, 640)\n"
     ]
    },
    {
     "name": "stderr",
     "output_type": "stream",
     "text": [
      "2025-05-24 22:37:26,563 - WARNING - Label-prediction mismatch in 002363.jpg: 14 ground truth vs 15 predicted\n"
     ]
    },
    {
     "name": "stdout",
     "output_type": "stream",
     "text": [
      "\n",
      "image 1/1 c:\\WORK STUFF LOL\\NTU file\\NTU file\\NTU courses\\3rd year\\Deep learning\\Individual Project2\\Hard Hat - Vest\\images\\test\\002374.jpg: 640x640 2 helmets, 1 vest, 8.1ms\n",
      "Speed: 2.7ms preprocess, 8.1ms inference, 1.7ms postprocess per image at shape (1, 3, 640, 640)\n"
     ]
    },
    {
     "name": "stderr",
     "output_type": "stream",
     "text": [
      "2025-05-24 22:37:26,590 - WARNING - Label-prediction mismatch in 002374.jpg: 2 ground truth vs 3 predicted\n"
     ]
    },
    {
     "name": "stdout",
     "output_type": "stream",
     "text": [
      "\n",
      "image 1/1 c:\\WORK STUFF LOL\\NTU file\\NTU file\\NTU courses\\3rd year\\Deep learning\\Individual Project2\\Hard Hat - Vest\\images\\test\\002393.jpg: 640x640 2 helmets, 9.3ms\n",
      "Speed: 2.4ms preprocess, 9.3ms inference, 2.9ms postprocess per image at shape (1, 3, 640, 640)\n"
     ]
    },
    {
     "name": "stderr",
     "output_type": "stream",
     "text": [
      "2025-05-24 22:37:26,618 - WARNING - Label-prediction mismatch in 002393.jpg: 3 ground truth vs 2 predicted\n"
     ]
    },
    {
     "name": "stdout",
     "output_type": "stream",
     "text": [
      "\n",
      "image 1/1 c:\\WORK STUFF LOL\\NTU file\\NTU file\\NTU courses\\3rd year\\Deep learning\\Individual Project2\\Hard Hat - Vest\\images\\test\\002404.jpg: 640x640 2 helmets, 5 heads, 7.6ms\n",
      "Speed: 3.0ms preprocess, 7.6ms inference, 1.9ms postprocess per image at shape (1, 3, 640, 640)\n"
     ]
    },
    {
     "name": "stderr",
     "output_type": "stream",
     "text": [
      "2025-05-24 22:37:26,644 - WARNING - Label-prediction mismatch in 002404.jpg: 5 ground truth vs 7 predicted\n"
     ]
    },
    {
     "name": "stdout",
     "output_type": "stream",
     "text": [
      "\n",
      "image 1/1 c:\\WORK STUFF LOL\\NTU file\\NTU file\\NTU courses\\3rd year\\Deep learning\\Individual Project2\\Hard Hat - Vest\\images\\test\\002416.jpg: 640x640 4 helmets, 9.3ms\n",
      "Speed: 2.6ms preprocess, 9.3ms inference, 1.4ms postprocess per image at shape (1, 3, 640, 640)\n"
     ]
    },
    {
     "name": "stderr",
     "output_type": "stream",
     "text": [
      "2025-05-24 22:37:26,672 - WARNING - Label-prediction mismatch in 002416.jpg: 2 ground truth vs 4 predicted\n"
     ]
    },
    {
     "name": "stdout",
     "output_type": "stream",
     "text": [
      "\n",
      "image 1/1 c:\\WORK STUFF LOL\\NTU file\\NTU file\\NTU courses\\3rd year\\Deep learning\\Individual Project2\\Hard Hat - Vest\\images\\test\\002427.jpg: 640x640 3 helmets, 8.0ms\n",
      "Speed: 2.3ms preprocess, 8.0ms inference, 2.7ms postprocess per image at shape (1, 3, 640, 640)\n"
     ]
    },
    {
     "name": "stderr",
     "output_type": "stream",
     "text": [
      "2025-05-24 22:37:26,698 - WARNING - Label-prediction mismatch in 002427.jpg: 6 ground truth vs 3 predicted\n"
     ]
    },
    {
     "name": "stdout",
     "output_type": "stream",
     "text": [
      "\n",
      "image 1/1 c:\\WORK STUFF LOL\\NTU file\\NTU file\\NTU courses\\3rd year\\Deep learning\\Individual Project2\\Hard Hat - Vest\\images\\test\\002445.jpg: 640x640 7 helmets, 7.5ms\n",
      "Speed: 2.9ms preprocess, 7.5ms inference, 3.5ms postprocess per image at shape (1, 3, 640, 640)\n"
     ]
    },
    {
     "name": "stderr",
     "output_type": "stream",
     "text": [
      "2025-05-24 22:37:26,726 - WARNING - Label-prediction mismatch in 002445.jpg: 4 ground truth vs 7 predicted\n"
     ]
    },
    {
     "name": "stdout",
     "output_type": "stream",
     "text": [
      "\n",
      "image 1/1 c:\\WORK STUFF LOL\\NTU file\\NTU file\\NTU courses\\3rd year\\Deep learning\\Individual Project2\\Hard Hat - Vest\\images\\test\\002446.jpg: 640x640 2 helmets, 7.7ms\n",
      "Speed: 3.0ms preprocess, 7.7ms inference, 3.6ms postprocess per image at shape (1, 3, 640, 640)\n"
     ]
    },
    {
     "name": "stderr",
     "output_type": "stream",
     "text": [
      "2025-05-24 22:37:26,754 - WARNING - Label-prediction mismatch in 002446.jpg: 1 ground truth vs 2 predicted\n"
     ]
    },
    {
     "name": "stdout",
     "output_type": "stream",
     "text": [
      "\n",
      "image 1/1 c:\\WORK STUFF LOL\\NTU file\\NTU file\\NTU courses\\3rd year\\Deep learning\\Individual Project2\\Hard Hat - Vest\\images\\test\\002447.jpg: 640x640 7 helmets, 7.6ms\n",
      "Speed: 2.7ms preprocess, 7.6ms inference, 1.6ms postprocess per image at shape (1, 3, 640, 640)\n"
     ]
    },
    {
     "name": "stderr",
     "output_type": "stream",
     "text": [
      "2025-05-24 22:37:26,778 - WARNING - Label-prediction mismatch in 002447.jpg: 4 ground truth vs 7 predicted\n"
     ]
    },
    {
     "name": "stdout",
     "output_type": "stream",
     "text": [
      "\n",
      "image 1/1 c:\\WORK STUFF LOL\\NTU file\\NTU file\\NTU courses\\3rd year\\Deep learning\\Individual Project2\\Hard Hat - Vest\\images\\test\\002462.jpg: 640x640 3 helmets, 2 vests, 15.1ms\n",
      "Speed: 3.0ms preprocess, 15.1ms inference, 3.1ms postprocess per image at shape (1, 3, 640, 640)\n",
      "\n",
      "image 1/1 c:\\WORK STUFF LOL\\NTU file\\NTU file\\NTU courses\\3rd year\\Deep learning\\Individual Project2\\Hard Hat - Vest\\images\\test\\002468.jpg: 640x640 3 helmets, 7.5ms\n",
      "Speed: 2.5ms preprocess, 7.5ms inference, 1.5ms postprocess per image at shape (1, 3, 640, 640)\n",
      "\n",
      "image 1/1 c:\\WORK STUFF LOL\\NTU file\\NTU file\\NTU courses\\3rd year\\Deep learning\\Individual Project2\\Hard Hat - Vest\\images\\test\\002490.jpg: 640x640 4 helmets, 8.5ms\n",
      "Speed: 2.2ms preprocess, 8.5ms inference, 2.4ms postprocess per image at shape (1, 3, 640, 640)\n"
     ]
    },
    {
     "name": "stderr",
     "output_type": "stream",
     "text": [
      "2025-05-24 22:37:26,863 - WARNING - Label-prediction mismatch in 002490.jpg: 3 ground truth vs 4 predicted\n"
     ]
    },
    {
     "name": "stdout",
     "output_type": "stream",
     "text": [
      "\n",
      "image 1/1 c:\\WORK STUFF LOL\\NTU file\\NTU file\\NTU courses\\3rd year\\Deep learning\\Individual Project2\\Hard Hat - Vest\\images\\test\\002493.jpg: 640x640 2 helmets, 7.4ms\n",
      "Speed: 2.3ms preprocess, 7.4ms inference, 1.6ms postprocess per image at shape (1, 3, 640, 640)\n"
     ]
    },
    {
     "name": "stderr",
     "output_type": "stream",
     "text": [
      "2025-05-24 22:37:26,887 - WARNING - Label-prediction mismatch in 002493.jpg: 3 ground truth vs 2 predicted\n"
     ]
    },
    {
     "name": "stdout",
     "output_type": "stream",
     "text": [
      "\n",
      "image 1/1 c:\\WORK STUFF LOL\\NTU file\\NTU file\\NTU courses\\3rd year\\Deep learning\\Individual Project2\\Hard Hat - Vest\\images\\test\\002520.jpg: 640x640 5 helmets, 9.3ms\n",
      "Speed: 2.3ms preprocess, 9.3ms inference, 1.6ms postprocess per image at shape (1, 3, 640, 640)\n",
      "\n",
      "image 1/1 c:\\WORK STUFF LOL\\NTU file\\NTU file\\NTU courses\\3rd year\\Deep learning\\Individual Project2\\Hard Hat - Vest\\images\\test\\002529.jpg: 640x640 4 helmets, 7.5ms\n",
      "Speed: 2.4ms preprocess, 7.5ms inference, 3.2ms postprocess per image at shape (1, 3, 640, 640)\n",
      "\n",
      "image 1/1 c:\\WORK STUFF LOL\\NTU file\\NTU file\\NTU courses\\3rd year\\Deep learning\\Individual Project2\\Hard Hat - Vest\\images\\test\\002534.jpg: 640x640 4 helmets, 7.6ms\n",
      "Speed: 2.1ms preprocess, 7.6ms inference, 1.6ms postprocess per image at shape (1, 3, 640, 640)\n"
     ]
    },
    {
     "name": "stderr",
     "output_type": "stream",
     "text": [
      "2025-05-24 22:37:26,958 - WARNING - Label-prediction mismatch in 002534.jpg: 3 ground truth vs 4 predicted\n"
     ]
    },
    {
     "name": "stdout",
     "output_type": "stream",
     "text": [
      "\n",
      "image 1/1 c:\\WORK STUFF LOL\\NTU file\\NTU file\\NTU courses\\3rd year\\Deep learning\\Individual Project2\\Hard Hat - Vest\\images\\test\\002536.jpg: 640x640 3 helmets, 7.6ms\n",
      "Speed: 2.6ms preprocess, 7.6ms inference, 1.7ms postprocess per image at shape (1, 3, 640, 640)\n",
      "\n",
      "image 1/1 c:\\WORK STUFF LOL\\NTU file\\NTU file\\NTU courses\\3rd year\\Deep learning\\Individual Project2\\Hard Hat - Vest\\images\\test\\002538.jpg: 640x640 2 helmets, 11.9ms\n",
      "Speed: 2.4ms preprocess, 11.9ms inference, 3.1ms postprocess per image at shape (1, 3, 640, 640)\n"
     ]
    },
    {
     "name": "stderr",
     "output_type": "stream",
     "text": [
      "2025-05-24 22:37:27,010 - WARNING - Label-prediction mismatch in 002538.jpg: 1 ground truth vs 2 predicted\n"
     ]
    },
    {
     "name": "stdout",
     "output_type": "stream",
     "text": [
      "\n",
      "image 1/1 c:\\WORK STUFF LOL\\NTU file\\NTU file\\NTU courses\\3rd year\\Deep learning\\Individual Project2\\Hard Hat - Vest\\images\\test\\002563.jpg: 640x640 4 helmets, 7.7ms\n",
      "Speed: 2.1ms preprocess, 7.7ms inference, 2.7ms postprocess per image at shape (1, 3, 640, 640)\n"
     ]
    },
    {
     "name": "stderr",
     "output_type": "stream",
     "text": [
      "2025-05-24 22:37:27,034 - WARNING - Label-prediction mismatch in 002563.jpg: 5 ground truth vs 4 predicted\n"
     ]
    },
    {
     "name": "stdout",
     "output_type": "stream",
     "text": [
      "\n",
      "image 1/1 c:\\WORK STUFF LOL\\NTU file\\NTU file\\NTU courses\\3rd year\\Deep learning\\Individual Project2\\Hard Hat - Vest\\images\\test\\002570.jpg: 640x640 7 helmets, 1 vest, 11.1ms\n",
      "Speed: 2.3ms preprocess, 11.1ms inference, 1.7ms postprocess per image at shape (1, 3, 640, 640)\n"
     ]
    },
    {
     "name": "stderr",
     "output_type": "stream",
     "text": [
      "2025-05-24 22:37:27,062 - WARNING - Label-prediction mismatch in 002570.jpg: 5 ground truth vs 8 predicted\n"
     ]
    },
    {
     "name": "stdout",
     "output_type": "stream",
     "text": [
      "\n",
      "image 1/1 c:\\WORK STUFF LOL\\NTU file\\NTU file\\NTU courses\\3rd year\\Deep learning\\Individual Project2\\Hard Hat - Vest\\images\\test\\002592.jpg: 640x640 3 helmets, 7.8ms\n",
      "Speed: 3.0ms preprocess, 7.8ms inference, 1.5ms postprocess per image at shape (1, 3, 640, 640)\n"
     ]
    },
    {
     "name": "stderr",
     "output_type": "stream",
     "text": [
      "2025-05-24 22:37:27,086 - WARNING - Label-prediction mismatch in 002592.jpg: 2 ground truth vs 3 predicted\n"
     ]
    },
    {
     "name": "stdout",
     "output_type": "stream",
     "text": [
      "\n",
      "image 1/1 c:\\WORK STUFF LOL\\NTU file\\NTU file\\NTU courses\\3rd year\\Deep learning\\Individual Project2\\Hard Hat - Vest\\images\\test\\002602.jpg: 640x640 3 helmets, 1 vest, 7.6ms\n",
      "Speed: 2.5ms preprocess, 7.6ms inference, 1.6ms postprocess per image at shape (1, 3, 640, 640)\n"
     ]
    },
    {
     "name": "stderr",
     "output_type": "stream",
     "text": [
      "2025-05-24 22:37:27,109 - WARNING - Label-prediction mismatch in 002602.jpg: 3 ground truth vs 4 predicted\n"
     ]
    },
    {
     "name": "stdout",
     "output_type": "stream",
     "text": [
      "\n",
      "image 1/1 c:\\WORK STUFF LOL\\NTU file\\NTU file\\NTU courses\\3rd year\\Deep learning\\Individual Project2\\Hard Hat - Vest\\images\\test\\002627.jpg: 640x640 4 helmets, 8.9ms\n",
      "Speed: 2.5ms preprocess, 8.9ms inference, 1.8ms postprocess per image at shape (1, 3, 640, 640)\n",
      "\n",
      "image 1/1 c:\\WORK STUFF LOL\\NTU file\\NTU file\\NTU courses\\3rd year\\Deep learning\\Individual Project2\\Hard Hat - Vest\\images\\test\\002637.jpg: 640x640 5 helmets, 8.6ms\n",
      "Speed: 2.4ms preprocess, 8.6ms inference, 2.1ms postprocess per image at shape (1, 3, 640, 640)\n"
     ]
    },
    {
     "name": "stderr",
     "output_type": "stream",
     "text": [
      "2025-05-24 22:37:27,159 - WARNING - Label-prediction mismatch in 002637.jpg: 4 ground truth vs 5 predicted\n"
     ]
    },
    {
     "name": "stdout",
     "output_type": "stream",
     "text": [
      "\n",
      "image 1/1 c:\\WORK STUFF LOL\\NTU file\\NTU file\\NTU courses\\3rd year\\Deep learning\\Individual Project2\\Hard Hat - Vest\\images\\test\\002652.jpg: 640x640 4 helmets, 7.7ms\n",
      "Speed: 2.5ms preprocess, 7.7ms inference, 1.7ms postprocess per image at shape (1, 3, 640, 640)\n",
      "\n",
      "image 1/1 c:\\WORK STUFF LOL\\NTU file\\NTU file\\NTU courses\\3rd year\\Deep learning\\Individual Project2\\Hard Hat - Vest\\images\\test\\002666.jpg: 640x640 1 vest, 6 heads, 7.6ms\n",
      "Speed: 3.1ms preprocess, 7.6ms inference, 1.8ms postprocess per image at shape (1, 3, 640, 640)\n"
     ]
    },
    {
     "name": "stderr",
     "output_type": "stream",
     "text": [
      "2025-05-24 22:37:27,207 - WARNING - Label-prediction mismatch in 002666.jpg: 6 ground truth vs 7 predicted\n"
     ]
    },
    {
     "name": "stdout",
     "output_type": "stream",
     "text": [
      "\n",
      "image 1/1 c:\\WORK STUFF LOL\\NTU file\\NTU file\\NTU courses\\3rd year\\Deep learning\\Individual Project2\\Hard Hat - Vest\\images\\test\\002672.jpg: 640x640 3 helmets, 5 vests, 1 head, 10.4ms\n",
      "Speed: 2.4ms preprocess, 10.4ms inference, 1.7ms postprocess per image at shape (1, 3, 640, 640)\n"
     ]
    },
    {
     "name": "stderr",
     "output_type": "stream",
     "text": [
      "2025-05-24 22:37:27,235 - WARNING - Label-prediction mismatch in 002672.jpg: 8 ground truth vs 9 predicted\n"
     ]
    },
    {
     "ename": "KeyboardInterrupt",
     "evalue": "",
     "output_type": "error",
     "traceback": [
      "\u001b[31m---------------------------------------------------------------------------\u001b[39m",
      "\u001b[31mKeyboardInterrupt\u001b[39m                         Traceback (most recent call last)",
      "\u001b[36mCell\u001b[39m\u001b[36m \u001b[39m\u001b[32mIn[2]\u001b[39m\u001b[32m, line 63\u001b[39m\n\u001b[32m     61\u001b[39m \u001b[38;5;66;03m# Save annotated image\u001b[39;00m\n\u001b[32m     62\u001b[39m img_pred = r.plot()\n\u001b[32m---> \u001b[39m\u001b[32m63\u001b[39m img_bgr = \u001b[43mcv2\u001b[49m\u001b[43m.\u001b[49m\u001b[43mcvtColor\u001b[49m\u001b[43m(\u001b[49m\u001b[43mimg_pred\u001b[49m\u001b[43m,\u001b[49m\u001b[43m \u001b[49m\u001b[43mcv2\u001b[49m\u001b[43m.\u001b[49m\u001b[43mCOLOR_RGB2BGR\u001b[49m\u001b[43m)\u001b[49m\n\u001b[32m     64\u001b[39m save_path = save_dir / img_name\n\u001b[32m     65\u001b[39m cv2.imwrite(\u001b[38;5;28mstr\u001b[39m(save_path), img_bgr)\n",
      "\u001b[31mKeyboardInterrupt\u001b[39m: "
     ]
    }
   ],
   "source": [
    "from matplotlib import pyplot as plt\n",
    "import cv2\n",
    "import logging\n",
    "from pathlib import Path\n",
    "import os\n",
    "from sklearn.metrics import confusion_matrix, ConfusionMatrixDisplay, classification_report\n",
    "import numpy as np\n",
    "\n",
    "# Define paths\n",
    "test_img_dir = base_dir / \"images\" / \"test\"\n",
    "test_label_dir = base_dir / \"labels\" / \"test\"\n",
    "save_dir = base_dir / \"predictions\"\n",
    "save_dir.mkdir(parents=True, exist_ok=True)\n",
    "\n",
    "# Store all predictions and labels\n",
    "y_true = []\n",
    "y_pred = []\n",
    "\n",
    "# Ensure test image directory exists\n",
    "if not test_img_dir.exists():\n",
    "    logging.error(f\"Test image directory not found: {test_img_dir}\")\n",
    "else:\n",
    "    # Collect and sort all image files\n",
    "    test_images = sorted([\n",
    "        f for f in os.listdir(test_img_dir)\n",
    "        if f.endswith(('.png', '.jpg', '.jpeg'))\n",
    "    ])\n",
    "\n",
    "    logging.info(f\"Found {len(test_images)} test images.\")\n",
    "\n",
    "    # Run prediction, save annotated images, and collect labels\n",
    "    for img_name in test_images:\n",
    "        img_path = test_img_dir / img_name\n",
    "        label_file = test_label_dir / f\"{img_name.rsplit('.', 1)[0]}.txt\"\n",
    "\n",
    "        # Predict\n",
    "        results = model.predict(source=str(img_path), conf=0.25, save=False)\n",
    "\n",
    "        for r in results:\n",
    "            # Collect predicted classes\n",
    "            pred_classes = r.boxes.cls.cpu().numpy().astype(int).tolist()\n",
    "\n",
    "            # Read ground truth labels\n",
    "            if label_file.exists():\n",
    "                with open(label_file) as f:\n",
    "                    true_classes = [int(line.strip().split()[0]) for line in f.readlines()]\n",
    "            else:\n",
    "                logging.warning(f\"Label file missing for {img_name}\")\n",
    "                true_classes = []\n",
    "\n",
    "            # Only add if counts match\n",
    "            if len(true_classes) == len(pred_classes):\n",
    "                y_true.extend(true_classes)\n",
    "                y_pred.extend(pred_classes)\n",
    "            else:\n",
    "                logging.warning(\n",
    "                    f\"Label-prediction mismatch in {img_name}: \"\n",
    "                    f\"{len(true_classes)} ground truth vs {len(pred_classes)} predicted\"\n",
    "                )\n",
    "\n",
    "            # Save annotated image\n",
    "            img_pred = r.plot()\n",
    "            img_bgr = cv2.cvtColor(img_pred, cv2.COLOR_RGB2BGR)\n",
    "            save_path = save_dir / img_name\n",
    "            cv2.imwrite(str(save_path), img_bgr)\n",
    "\n",
    "    logging.info(f\"Saved all annotated images to: {save_dir}\")"
   ]
  },
  {
   "cell_type": "code",
   "execution_count": 7,
   "id": "47e07d74-005e-47f2-accd-02e0107b000f",
   "metadata": {},
   "outputs": [
    {
     "data": {
      "text/plain": [
       "<Figure size 800x600 with 0 Axes>"
      ]
     },
     "metadata": {},
     "output_type": "display_data"
    },
    {
     "data": {
      "image/png": "[encoded data removed]",
      "text/plain": [
       "<Figure size 640x480 with 2 Axes>"
      ]
     },
     "metadata": {},
     "output_type": "display_data"
    },
    {
     "name": "stdout",
     "output_type": "stream",
     "text": [
      "\n",
      "Classification Report:\n",
      "              precision    recall  f1-score   support\n",
      "\n",
      "      helmet       0.93      0.92      0.92      2093\n",
      "        vest       0.74      0.69      0.72       219\n",
      "        head       0.92      0.93      0.92      1377\n",
      "\n",
      "    accuracy                           0.91      3689\n",
      "   macro avg       0.86      0.85      0.85      3689\n",
      "weighted avg       0.91      0.91      0.91      3689\n",
      "\n"
     ]
    }
   ],
   "source": [
    "# Confusion Matrix\n",
    "if y_true and y_pred:\n",
    "    cm = confusion_matrix(y_true, y_pred, labels=list(range(len(classes))))\n",
    "    disp = ConfusionMatrixDisplay(confusion_matrix=cm, display_labels=classes)\n",
    "    plt.figure(figsize=(8, 6))\n",
    "    disp.plot(cmap=\"Blues\", values_format='d')\n",
    "    plt.title(\"Confusion Matrix\")\n",
    "    plt.show()\n",
    "\n",
    "    # Classification Report\n",
    "    print(\"\\nClassification Report:\")\n",
    "    print(classification_report(y_true, y_pred, target_names=classes))\n",
    "else:\n",
    "    logging.error(\"No valid prediction-label pairs to compute metrics.\")"
   ]
  },
  {
   "cell_type": "code",
   "execution_count": null,
   "id": "3fe335d9-a63c-4f05-8e82-f4162d0ad208",
   "metadata": {},
   "outputs": [],
   "source": [
    "import cv2\n",
    "import torch\n",
    "from ultralytics import YOLO\n",
    "\n",
    "# Load trained YOLO model\n",
    "model = YOLO(weights_path)  # replace with your trained weights\n",
    "\n",
    "# Load video\n",
    "video_path = 0  # or use 0 for webcam\n",
    "cap = cv2.VideoCapture(video_path)\n",
    "\n",
    "# Output video settings\n",
    "output_path = \"output_video.mp4\"\n",
    "fps = cap.get(cv2.CAP_PROP_FPS)\n",
    "width = int(cap.get(cv2.CAP_PROP_FRAME_WIDTH))\n",
    "height = int(cap.get(cv2.CAP_PROP_FRAME_HEIGHT))\n",
    "fourcc = cv2.VideoWriter_fourcc(*'mp4v')\n",
    "out = cv2.VideoWriter(output_path, fourcc, fps, (width, height))\n",
    "\n",
    "while cap.isOpened():\n",
    "    ret, frame = cap.read()\n",
    "    if not ret:\n",
    "        break\n",
    "\n",
    "    # Run YOLOv8 inference\n",
    "    results = model.predict(source=frame, conf=0.25, iou=0.5)\n",
    "\n",
    "    # Plot detections on the frame\n",
    "    annotated_frame = results[0].plot()\n",
    "\n",
    "    # Write to output\n",
    "    out.write(annotated_frame)\n",
    "\n",
    "    # Optional: show frame in real-time\n",
    "    cv2.imshow(\"YOLOv8 Video\", annotated_frame)\n",
    "    if cv2.waitKey(1) & 0xFF == ord('q'):\n",
    "        break\n",
    "\n",
    "# Release resources\n",
    "cap.release()\n",
    "out.release()\n",
    "cv2.destroyAllWindows()"
   ]
  },
  {
   "cell_type": "code",
   "execution_count": null,
   "id": "0a026bea-beca-4f02-a763-fe91324d11d9",
   "metadata": {},
   "outputs": [],
   "source": []
  }
 ],
 "metadata": {
  "kernelspec": {
   "display_name": "Python 3",
   "language": "python",
   "name": "python3"
  },
  "language_info": {
   "codemirror_mode": {
    "name": "ipython",
    "version": 3
   },
   "file_extension": ".py",
   "mimetype": "text/x-python",
   "name": "python",
   "nbconvert_exporter": "python",
   "pygments_lexer": "ipython3",
   "version": "3.13.2"
  }
 },
 "nbformat": 4,
 "nbformat_minor": 5
}
